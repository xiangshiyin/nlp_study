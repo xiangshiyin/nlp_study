{
 "cells": [
  {
   "cell_type": "markdown",
   "metadata": {},
   "source": [
    "# Stepwise exercise on TensorFlow's code example on Word2Vec algorithm\n",
    "\n",
    "[source code](https://github.com/tensorflow/tensorflow/blob/master/tensorflow/examples/tutorials/word2vec/word2vec_basic.py)\n",
    "\n",
    "- Tested with Harry Potter Book#1"
   ]
  },
  {
   "cell_type": "code",
   "execution_count": 1,
   "metadata": {},
   "outputs": [],
   "source": [
    "from __future__ import absolute_import\n",
    "from __future__ import division\n",
    "from __future__ import print_function\n",
    "\n",
    "import argparse\n",
    "import collections\n",
    "import math\n",
    "import os\n",
    "import random\n",
    "import sys\n",
    "from tempfile import gettempdir\n",
    "import zipfile\n",
    "\n",
    "import numpy as np\n",
    "from six.moves import urllib\n",
    "from six.moves import xrange  # pylint: disable=redefined-builtin\n",
    "import tensorflow as tf\n",
    "\n",
    "from tensorflow.contrib.tensorboard.plugins import projector\n",
    "\n",
    "data_index = 0\n"
   ]
  },
  {
   "cell_type": "code",
   "execution_count": 2,
   "metadata": {},
   "outputs": [
    {
     "data": {
      "text/plain": [
       "'1.14.0'"
      ]
     },
     "execution_count": 2,
     "metadata": {},
     "output_type": "execute_result"
    }
   ],
   "source": [
    "tf.__version__"
   ]
  },
  {
   "cell_type": "markdown",
   "metadata": {},
   "source": [
    "#### break the source code into chunks"
   ]
  },
  {
   "cell_type": "code",
   "execution_count": 3,
   "metadata": {},
   "outputs": [],
   "source": [
    "log_dir = '../log'\n",
    "\n",
    "\"\"\"Example of building, training and visualizing a word2vec model.\"\"\"\n",
    "# Create the directory for TensorBoard variables if there is not.\n",
    "if not os.path.exists(log_dir):\n",
    "    os.makedirs(log_dir)\n",
    "\n",
    "# Step 1: Download the data.\n",
    "url = 'http://mattmahoney.net/dc/'"
   ]
  },
  {
   "cell_type": "markdown",
   "metadata": {},
   "source": [
    "## step 1: download the raw data"
   ]
  },
  {
   "cell_type": "code",
   "execution_count": 4,
   "metadata": {},
   "outputs": [
    {
     "data": {
      "text/plain": [
       "'/var/folders/_r/1t3rxwvj54l7tk0jrx5r2j640000gq/T'"
      ]
     },
     "execution_count": 4,
     "metadata": {},
     "output_type": "execute_result"
    }
   ],
   "source": [
    "gettempdir()"
   ]
  },
  {
   "cell_type": "code",
   "execution_count": 5,
   "metadata": {},
   "outputs": [],
   "source": [
    "# # pylint: disable=redefined-outer-name\n",
    "# def maybe_download(filename, expected_bytes):\n",
    "#     \"\"\"Download a file if not present, and make sure it's the right size.\"\"\"\n",
    "#     local_filename = os.path.join(gettempdir(), filename)\n",
    "#     if not os.path.exists(local_filename):\n",
    "#         local_filename, _ = urllib.request.urlretrieve(url + filename,\n",
    "#                                                        local_filename)\n",
    "#     statinfo = os.stat(local_filename)\n",
    "#     if statinfo.st_size == expected_bytes:\n",
    "#         print('Found and verified', filename)\n",
    "#     else:\n",
    "#         print(statinfo.st_size)\n",
    "#         raise Exception('Failed to verify ' + local_filename +\n",
    "#                       '. Can you get to it with a browser?')\n",
    "#     return local_filename\n",
    "\n",
    "# filename = maybe_download('text8.zip', 31344016)"
   ]
  },
  {
   "cell_type": "code",
   "execution_count": 6,
   "metadata": {},
   "outputs": [],
   "source": [
    "# filename"
   ]
  },
  {
   "cell_type": "markdown",
   "metadata": {},
   "source": [
    "## step 2: Read the data into a list of strings."
   ]
  },
  {
   "cell_type": "code",
   "execution_count": 7,
   "metadata": {},
   "outputs": [
    {
     "name": "stderr",
     "output_type": "stream",
     "text": [
      "[nltk_data] Downloading package punkt to /Users/xyin/nltk_data...\n",
      "[nltk_data]   Package punkt is already up-to-date!\n"
     ]
    },
    {
     "name": "stdout",
     "output_type": "stream",
     "text": [
      "Data size 98836\n"
     ]
    }
   ],
   "source": [
    "# def read_data(filename):\n",
    "#     \"\"\"Extract the first file enclosed in a zip file as a list of words.\"\"\"\n",
    "#     with zipfile.ZipFile(filename) as f:\n",
    "#         data = tf.compat.as_str(f.read(f.namelist()[0])).split()\n",
    "#     return data\n",
    "\n",
    "# vocabulary = read_data(filename)\n",
    "\n",
    "import nltk\n",
    "nltk.download('punkt')\n",
    "# nltk.download('stopwords')\n",
    "# from nltk.corpus import stopwords\n",
    "# stopWords = set(stopwords.words('english'))\n",
    "\n",
    "# with open(file='../data/hp_ch1.txt',mode='r',errors='ignore') as f:\n",
    "#     vocabulary = [word.lower() for word in nltk.word_tokenize(f.read()) if word.lower() not in stopWords]\n",
    "\n",
    "with open(file='../data/hp_ch1.txt',mode='r',errors='ignore') as f:\n",
    "    vocabulary = [word.lower() for word in nltk.word_tokenize(f.read())]\n",
    "\n",
    "print('Data size', len(vocabulary))"
   ]
  },
  {
   "cell_type": "code",
   "execution_count": 8,
   "metadata": {},
   "outputs": [
    {
     "data": {
      "text/plain": [
       "list"
      ]
     },
     "execution_count": 8,
     "metadata": {},
     "output_type": "execute_result"
    }
   ],
   "source": [
    "type(vocabulary)"
   ]
  },
  {
   "cell_type": "code",
   "execution_count": 9,
   "metadata": {},
   "outputs": [
    {
     "data": {
      "text/plain": [
       "['harry', 'potter', 'and', 'the', 'sorcerer']"
      ]
     },
     "execution_count": 9,
     "metadata": {},
     "output_type": "execute_result"
    }
   ],
   "source": [
    "vocabulary[:5]"
   ]
  },
  {
   "cell_type": "code",
   "execution_count": 10,
   "metadata": {},
   "outputs": [
    {
     "data": {
      "text/plain": [
       "5994"
      ]
     },
     "execution_count": 10,
     "metadata": {},
     "output_type": "execute_result"
    }
   ],
   "source": [
    "len(set(vocabulary)) ## 6,841 unique words"
   ]
  },
  {
   "cell_type": "markdown",
   "metadata": {},
   "source": [
    "## step 3: Build the dictionary and replace rare words with UNK token."
   ]
  },
  {
   "cell_type": "code",
   "execution_count": 11,
   "metadata": {},
   "outputs": [
    {
     "data": {
      "text/plain": [
       "[['UNK', -1], (',', 5658), ('.', 5185), ('the', 3626), (\"''\", 2442)]"
      ]
     },
     "execution_count": 11,
     "metadata": {},
     "output_type": "execute_result"
    }
   ],
   "source": [
    "words = vocabulary\n",
    "n_words = 5000\n",
    "\n",
    "count = [['UNK', -1]]\n",
    "count.extend(collections.Counter(words).most_common(n_words - 1))\n",
    "count[:5]"
   ]
  },
  {
   "cell_type": "code",
   "execution_count": 12,
   "metadata": {},
   "outputs": [],
   "source": [
    "dictionary = {}\n",
    "for word, _ in count:\n",
    "    dictionary[word] = len(dictionary)"
   ]
  },
  {
   "cell_type": "markdown",
   "metadata": {},
   "source": [
    "#### put all together"
   ]
  },
  {
   "cell_type": "code",
   "execution_count": 13,
   "metadata": {},
   "outputs": [
    {
     "name": "stdout",
     "output_type": "stream",
     "text": [
      "Most common words (+UNK) [['UNK', 995], (',', 5658), ('.', 5185), ('the', 3626), (\"''\", 2442)]\n",
      "Sample data [10, 127, 6, 3, 596, 15, 158, 597, 54, 3] ['harry', 'potter', 'and', 'the', 'sorcerer', \"'s\", 'stone', 'chapter', 'one', 'the']\n"
     ]
    }
   ],
   "source": [
    "vocabulary_size = 5000\n",
    "\n",
    "def build_dataset(words, n_words):\n",
    "    \"\"\"Process raw inputs into a dataset.\"\"\"\n",
    "    count = [['UNK', -1]]\n",
    "    count.extend(collections.Counter(words).most_common(n_words - 1)) # get top 50k words in frequency\n",
    "    dictionary = {}\n",
    "    for word, _ in count:\n",
    "        dictionary[word] = len(dictionary) # index those top words by frequency ranking\n",
    "    data = []\n",
    "    unk_count = 0\n",
    "    for word in words:\n",
    "        index = dictionary.get(word, 0)\n",
    "        if index == 0:  # dictionary['UNK']\n",
    "            unk_count += 1\n",
    "        data.append(index) # collect indices of all words\n",
    "    count[0][1] = unk_count # update the UNK count, which is everything else except top 50k-1\n",
    "    reversed_dictionary = dict(zip(dictionary.values(), dictionary.keys()))\n",
    "    return data, count, dictionary, reversed_dictionary\n",
    "\n",
    "  # Filling 4 global variables:\n",
    "# data - list of codes (integers from 0 to vocabulary_size-1).\n",
    "#   This is the original text but words are replaced by their codes\n",
    "# count - map of words(strings) to count of occurrences\n",
    "# dictionary - map of words(strings) to their codes(integers)\n",
    "# reverse_dictionary - maps codes(integers) to words(strings)\n",
    "data, count, unused_dictionary, reverse_dictionary = build_dataset(\n",
    "  vocabulary, vocabulary_size)\n",
    "del vocabulary  # Hint to reduce memory.\n",
    "print('Most common words (+UNK)', count[:5])\n",
    "print('Sample data', data[:10], [reverse_dictionary[i] for i in data[:10]])"
   ]
  },
  {
   "cell_type": "markdown",
   "metadata": {},
   "source": [
    "## step 4: Function to generate a training batch for the skip-gram model."
   ]
  },
  {
   "cell_type": "code",
   "execution_count": 14,
   "metadata": {},
   "outputs": [],
   "source": [
    "data_index=0\n",
    "data2 = data[:5].copy()"
   ]
  },
  {
   "cell_type": "code",
   "execution_count": 15,
   "metadata": {
    "scrolled": false
   },
   "outputs": [
    {
     "name": "stdout",
     "output_type": "stream",
     "text": [
      "data_index: 0\n",
      "length of data: 5\n",
      "original batch: [        0 536870912         0 536870912         3         0         0\n",
      "         0]\n",
      "original labels: [[        0]\n",
      " [536870912]\n",
      " [        0]\n",
      " [536870912]\n",
      " [        5]\n",
      " [        0]\n",
      " [        0]\n",
      " [        0]]\n",
      "span: 3\n",
      "buffer: deque([10, 127, 6], maxlen=3)\n",
      "iteration 0, context words: [0, 2]\n",
      "iteration 0, words to use: [2, 0]\n",
      "iteration 0, batch: [      127       127         0 536870912         3         0         0\n",
      "         0]\n",
      "iteration 0, labels: [[        6]\n",
      " [       10]\n",
      " [        0]\n",
      " [536870912]\n",
      " [        5]\n",
      " [        0]\n",
      " [        0]\n",
      " [        0]]\n",
      "new buffer: deque([127, 6, 3], maxlen=3)\n",
      "data_index: 4\n",
      "iteration 1, context words: [0, 2]\n",
      "iteration 1, words to use: [2, 0]\n",
      "iteration 1, batch: [127 127   6   6   3   0   0   0]\n",
      "iteration 1, labels: [[  6]\n",
      " [ 10]\n",
      " [  3]\n",
      " [127]\n",
      " [  5]\n",
      " [  0]\n",
      " [  0]\n",
      " [  0]]\n",
      "new buffer: deque([6, 3, 596], maxlen=3)\n",
      "data_index: 5\n",
      "iteration 2, context words: [0, 2]\n",
      "iteration 2, words to use: [2, 0]\n",
      "iteration 2, batch: [127 127   6   6   3   3   0   0]\n",
      "iteration 2, labels: [[  6]\n",
      " [ 10]\n",
      " [  3]\n",
      " [127]\n",
      " [596]\n",
      " [  6]\n",
      " [  0]\n",
      " [  0]]\n",
      "new buffer: deque([10, 127, 6], maxlen=3)\n",
      "data_index: 3\n",
      "iteration 3, context words: [0, 2]\n",
      "iteration 3, words to use: [0, 2]\n",
      "iteration 3, batch: [127 127   6   6   3   3 127 127]\n",
      "iteration 3, labels: [[  6]\n",
      " [ 10]\n",
      " [  3]\n",
      " [127]\n",
      " [596]\n",
      " [  6]\n",
      " [ 10]\n",
      " [  6]]\n",
      "new buffer: deque([127, 6, 3], maxlen=3)\n",
      "data_index: 4\n",
      "Finally, data_index: 1\n"
     ]
    }
   ],
   "source": [
    "def generate_batch(batch_size, num_skips, skip_window):\n",
    "    global data_index\n",
    "    print('data_index: {}'.format(data_index))\n",
    "    print('length of data: {}'.format(len(data2)))\n",
    "    assert batch_size % num_skips == 0\n",
    "    assert num_skips <= 2 * skip_window\n",
    "    batch = np.ndarray(shape=(batch_size), dtype=np.int32)\n",
    "    labels = np.ndarray(shape=(batch_size, 1), dtype=np.int32)\n",
    "    print('original batch: {}'.format(batch))\n",
    "    print('original labels: {}'.format(labels))\n",
    "    span = 2 * skip_window + 1  # [ skip_window target skip_window ]\n",
    "    print('span: {}'.format(span))\n",
    "    ## create a double ended queue representing the range of [ skip_window target skip_window ]\n",
    "    buffer = collections.deque(maxlen=span)  # pylint: disable=redefined-builtin\n",
    "    if data_index + span > len(data2):\n",
    "        data_index = 0 ## what does this do??\n",
    "    buffer.extend(data2[data_index:data_index + span])\n",
    "    print('buffer: {}'.format(buffer))\n",
    "    data_index += span\n",
    "    for i in range(batch_size // num_skips):\n",
    "        context_words = [w for w in range(span) if w != skip_window]\n",
    "        print('iteration {}, context words: {}'.format(i, context_words))\n",
    "        words_to_use = random.sample(context_words, num_skips) # num of context words to use\n",
    "        print('iteration {}, words to use: {}'.format(i, words_to_use))\n",
    "        for j, context_word in enumerate(words_to_use):\n",
    "            batch[i * num_skips + j] = buffer[skip_window] # the target word??\n",
    "            labels[i * num_skips + j, 0] = buffer[context_word] # the context words??\n",
    "        print('iteration {}, batch: {}'.format(i, batch))\n",
    "        print('iteration {}, labels: {}'.format(i, labels))\n",
    "        if data_index == len(data2): # get to the end of the data, start over again\n",
    "            buffer.extend(data2[0:span])\n",
    "            data_index = span\n",
    "        else:\n",
    "            buffer.append(data2[data_index]) # move the buffer window by 1 unit\n",
    "            data_index += 1\n",
    "        print('new buffer: {}'.format(buffer))\n",
    "        print('data_index: {}'.format(data_index))\n",
    "    # Backtrack a little bit to avoid skipping words in the end of a batch\n",
    "    data_index = (data_index + len(data2) - span) % len(data2)\n",
    "    print('Finally, data_index: {}'.format(data_index))\n",
    "    return batch, labels\n",
    "\n",
    "batch, labels = generate_batch(batch_size=8, num_skips=2, skip_window=1)\n",
    "# for i in range(8):\n",
    "#     print(batch[i], reverse_dictionary[batch[i]], '->', labels[i, 0],\n",
    "#           reverse_dictionary[labels[i, 0]])"
   ]
  },
  {
   "cell_type": "code",
   "execution_count": 16,
   "metadata": {},
   "outputs": [
    {
     "data": {
      "text/plain": [
       "1"
      ]
     },
     "execution_count": 16,
     "metadata": {},
     "output_type": "execute_result"
    }
   ],
   "source": [
    "(4+17005207-3)%17005207"
   ]
  },
  {
   "cell_type": "code",
   "execution_count": 17,
   "metadata": {},
   "outputs": [
    {
     "name": "stdout",
     "output_type": "stream",
     "text": [
      "Finally, batch: [127 127   6   6   3   3 127 127]\n",
      "Finally, labels: [[  6]\n",
      " [ 10]\n",
      " [  3]\n",
      " [127]\n",
      " [596]\n",
      " [  6]\n",
      " [ 10]\n",
      " [  6]]\n",
      "data_index: 1\n"
     ]
    }
   ],
   "source": [
    "print('Finally, batch: {}'.format(batch))\n",
    "print('Finally, labels: {}'.format(labels))\n",
    "print('data_index: {}'.format(data_index))"
   ]
  },
  {
   "cell_type": "code",
   "execution_count": 18,
   "metadata": {},
   "outputs": [
    {
     "data": {
      "text/plain": [
       "[10, 127, 6, 3, 596, 15, 158, 597, 54, 3, 150, 80, 1014, 159, 6]"
      ]
     },
     "execution_count": 18,
     "metadata": {},
     "output_type": "execute_result"
    }
   ],
   "source": [
    "data[:15]"
   ]
  },
  {
   "cell_type": "markdown",
   "metadata": {},
   "source": [
    "#### put it all together"
   ]
  },
  {
   "cell_type": "code",
   "execution_count": 19,
   "metadata": {},
   "outputs": [
    {
     "name": "stdout",
     "output_type": "stream",
     "text": [
      "127 potter -> 10 harry\n",
      "127 potter -> 6 and\n",
      "6 and -> 127 potter\n",
      "6 and -> 3 the\n",
      "3 the -> 596 sorcerer\n",
      "3 the -> 6 and\n",
      "596 sorcerer -> 3 the\n",
      "596 sorcerer -> 15 's\n"
     ]
    }
   ],
   "source": [
    "data_index = 0\n",
    "\n",
    "def generate_batch(batch_size, num_skips, skip_window):\n",
    "    global data_index\n",
    "    # print('data_index: {}'.format(data_index))\n",
    "    # print('length of data: {}'.format(len(data)))\n",
    "    assert batch_size % num_skips == 0\n",
    "    assert num_skips <= 2 * skip_window\n",
    "    batch = np.ndarray(shape=(batch_size), dtype=np.int32)\n",
    "    labels = np.ndarray(shape=(batch_size, 1), dtype=np.int32)\n",
    "    # print('original batch: {}'.format(batch))\n",
    "    # print('original labels: {}'.format(labels))\n",
    "    span = 2 * skip_window + 1  # [ skip_window target skip_window ]\n",
    "    # print('span: {}'.format(span))\n",
    "    ## create a double ended queue representing the range of [ skip_window target skip_window ]\n",
    "    buffer = collections.deque(maxlen=span)  # pylint: disable=redefined-builtin\n",
    "    if data_index + span > len(data):\n",
    "        data_index = 0 ## what does this do??\n",
    "    buffer.extend(data[data_index:data_index + span])\n",
    "    # print('buffer: {}'.format(buffer))\n",
    "    data_index += span\n",
    "    for i in range(batch_size // num_skips):\n",
    "        context_words = [w for w in range(span) if w != skip_window]\n",
    "        # print('iteration {}, context words: {}'.format(i, context_words))\n",
    "        words_to_use = random.sample(context_words, num_skips) # num of context words to use\n",
    "        # print('iteration {}, words to use: {}'.format(i, words_to_use))\n",
    "        for j, context_word in enumerate(words_to_use):\n",
    "            batch[i * num_skips + j] = buffer[skip_window] # the target word??\n",
    "            labels[i * num_skips + j, 0] = buffer[context_word] # the context words??\n",
    "        # print('iteration {}, batch: {}'.format(i, batch))\n",
    "        # print('iteration {}, labels: {}'.format(i, labels))\n",
    "        if data_index == len(data): # get to the end of the data, start over again\n",
    "            buffer.extend(data[0:span])\n",
    "            data_index = span\n",
    "        else:\n",
    "            buffer.append(data[data_index]) # move the buffer window by 1 unit\n",
    "            data_index += 1\n",
    "        # print('new buffer: {}'.format(buffer))\n",
    "        # print('data_index: {}'.format(data_index))\n",
    "    # Backtrack a little bit to avoid skipping words in the end of a batch\n",
    "    data_index = (data_index + len(data) - span) % len(data)\n",
    "    # print('Finally, data_index: {}'.format(data_index))\n",
    "    return batch, labels\n",
    "\n",
    "batch, labels = generate_batch(batch_size=8, num_skips=2, skip_window=1)\n",
    "for i in range(8):\n",
    "    print(batch[i], reverse_dictionary[batch[i]], '->', labels[i, 0],\n",
    "          reverse_dictionary[labels[i, 0]])"
   ]
  },
  {
   "cell_type": "markdown",
   "metadata": {},
   "source": [
    "## step 5: Build and train a skip-gram model."
   ]
  },
  {
   "cell_type": "code",
   "execution_count": 20,
   "metadata": {},
   "outputs": [
    {
     "data": {
      "text/plain": [
       "array([88, 71, 61, 51,  4, 72, 45, 27, 55, 43, 11, 63, 94, 78, 77, 34])"
      ]
     },
     "execution_count": 20,
     "metadata": {},
     "output_type": "execute_result"
    }
   ],
   "source": [
    "valid_size = 16  # Random set of words to evaluate similarity on.\n",
    "valid_window = 100  # Only pick dev samples in the head of the distribution.\n",
    "np.random.choice(valid_window, valid_size, replace=False)"
   ]
  },
  {
   "cell_type": "code",
   "execution_count": 21,
   "metadata": {
    "scrolled": true
   },
   "outputs": [
    {
     "name": "stderr",
     "output_type": "stream",
     "text": [
      "WARNING: Logging before flag parsing goes to stderr.\n",
      "W0627 09:50:02.588105 4651546048 deprecation.py:323] From /anaconda3/envs/py36/lib/python3.6/site-packages/tensorflow/python/ops/nn_impl.py:180: add_dispatch_support.<locals>.wrapper (from tensorflow.python.ops.array_ops) is deprecated and will be removed in a future version.\n",
      "Instructions for updating:\n",
      "Use tf.where in 2.0, which has the same broadcast rule as np.where\n"
     ]
    }
   ],
   "source": [
    "batch_size = 128\n",
    "embedding_size = 128  # Dimension of the embedding vector.\n",
    "skip_window = 1  # How many words to consider left and right.\n",
    "num_skips = 2  # How many times to reuse an input to generate a label.\n",
    "num_sampled = 64  # Number of negative examples to sample.\n",
    "\n",
    "# We pick a random validation set to sample nearest neighbors. Here we limit\n",
    "# the validation samples to the words that have a low numeric ID, which by\n",
    "# construction are also the most frequent. These 3 variables are used only for\n",
    "# displaying model accuracy, they don't affect calculation.\n",
    "valid_size = 16  # Random set of words to evaluate similarity on.\n",
    "valid_window = 100  # Only pick dev samples in the head of the distribution.\n",
    "valid_examples = np.random.choice(valid_window, valid_size, replace=False)\n",
    "\n",
    "graph = tf.Graph()\n",
    "\n",
    "with graph.as_default():\n",
    "\n",
    "    # Input data.\n",
    "    with tf.name_scope('inputs'):\n",
    "        train_inputs = tf.placeholder(tf.int32, shape=[batch_size])\n",
    "        train_labels = tf.placeholder(tf.int32, shape=[batch_size, 1])\n",
    "        valid_dataset = tf.constant(valid_examples, dtype=tf.int32)\n",
    "\n",
    "    # Ops and variables pinned to the CPU because of missing GPU implementation\n",
    "    with tf.device('/cpu:0'):\n",
    "        # Look up embeddings for inputs.\n",
    "        with tf.name_scope('embeddings'):\n",
    "            embeddings = tf.Variable(\n",
    "                tf.random_uniform([vocabulary_size, embedding_size], -1.0, 1.0))\n",
    "            embed = tf.nn.embedding_lookup(embeddings, train_inputs)\n",
    "\n",
    "        # Construct the variables for the NCE loss\n",
    "        with tf.name_scope('weights'):\n",
    "            nce_weights = tf.Variable(\n",
    "                tf.truncated_normal([vocabulary_size, embedding_size],\n",
    "                                    stddev=1.0 / math.sqrt(embedding_size)))\n",
    "        with tf.name_scope('biases'):\n",
    "            nce_biases = tf.Variable(tf.zeros([vocabulary_size]))\n",
    "\n",
    "    # Compute the average NCE loss for the batch.\n",
    "    # tf.nce_loss automatically draws a new sample of the negative labels each\n",
    "    # time we evaluate the loss.\n",
    "    # Explanation of the meaning of NCE loss:\n",
    "    #   http://mccormickml.com/2016/04/19/word2vec-tutorial-the-skip-gram-model/\n",
    "    with tf.name_scope('loss'):\n",
    "        loss = tf.reduce_mean(\n",
    "            tf.nn.nce_loss(\n",
    "            weights=nce_weights,\n",
    "            biases=nce_biases,\n",
    "            labels=train_labels,\n",
    "            inputs=embed,\n",
    "            num_sampled=num_sampled,\n",
    "            num_classes=vocabulary_size))\n",
    "\n",
    "    # Add the loss value as a scalar to summary.\n",
    "    tf.summary.scalar('loss', loss)\n",
    "\n",
    "    # Construct the SGD optimizer using a learning rate of 1.0.\n",
    "    with tf.name_scope('optimizer'):\n",
    "        optimizer = tf.train.GradientDescentOptimizer(1.0).minimize(loss)\n",
    "\n",
    "    # Compute the cosine similarity between minibatch examples and all\n",
    "    # embeddings.\n",
    "    norm = tf.sqrt(tf.reduce_sum(tf.square(embeddings), 1, keepdims=True))\n",
    "    normalized_embeddings = embeddings / norm\n",
    "    valid_embeddings = tf.nn.embedding_lookup(normalized_embeddings,\n",
    "                                              valid_dataset)\n",
    "    similarity = tf.matmul(\n",
    "        valid_embeddings, normalized_embeddings, transpose_b=True)\n",
    "\n",
    "    # Merge all summaries.\n",
    "    merged = tf.summary.merge_all()\n",
    "\n",
    "    # Add variable initializer.\n",
    "    init = tf.global_variables_initializer()\n",
    "\n",
    "    # Create a saver.\n",
    "    saver = tf.train.Saver()"
   ]
  },
  {
   "cell_type": "markdown",
   "metadata": {},
   "source": [
    "## step 6: Begin training."
   ]
  },
  {
   "cell_type": "code",
   "execution_count": 22,
   "metadata": {},
   "outputs": [
    {
     "name": "stdout",
     "output_type": "stream",
     "text": [
      "Initialized\n",
      "Average loss at step  0 :  205.44810485839844\n",
      "Nearest to then: creature, swig, squeaky, hollow, desktop, staying, next, grasping,\n",
      "Nearest to of: smiled, musty, passes, from, other, barks, drinking, chairs,\n",
      "Nearest to had: those, dursleys, fumbling, amber, effort, that-that, bored, freak,\n",
      "Nearest to have: ages, heartstrings, shore, wearing, color, firm, forced, zoomed,\n",
      "Nearest to going: dairy, control, one, softly, flipped, to, screamed, punch,\n",
      "Nearest to said: bubbles, macdougal, lady, distance, firework, cunning, gown, squashed,\n",
      "Nearest to so: frying, jet, deep, huddle, scented, snake, dial, gardens,\n",
      "Nearest to got: relax, frantically, keen, pelted, often, pince, clinging, o'clock,\n",
      "Nearest to see: redheaded, chasin, lawns, tingle, neither, place, earned, mind,\n",
      "Nearest to very: gorilla, -i, bedspread, handy, interrupted, squeaked, done, blank,\n",
      "Nearest to how: fluttering, ooh, haaa, foot, weasleys, slinking, spoils, fabulous,\n",
      "Nearest to their: march, shooting, miranda, wrinkled, sick, snakelike, settled, bravely,\n",
      "Nearest to was: beefy, struggled, spokesgoblin, brother, pellets, math, forget, petunia,\n",
      "Nearest to from: maple, thing, sparkling, of, quilt, gloomy-looking, helplessly, blond,\n",
      "Nearest to hagrid: mcgonagall, downstairs, diagon, beach, ebony, amber, wow, mounted,\n",
      "Nearest to were: gasp, clock, pellets, robe, forgotten, eat, broomstick, music,\n",
      "Average loss at step  2000 :  22.896107763528825\n",
      "Average loss at step  4000 :  4.865247877001762\n",
      "Average loss at step  6000 :  4.362879331111908\n",
      "Average loss at step  8000 :  4.242065552949906\n",
      "Average loss at step  10000 :  4.147555999279022\n",
      "Nearest to then: swig, squeaky, staying, knocking, hollow, creature, bent, miles,\n",
      "Nearest to of: from, barks, other, chairs, passes, points, snitch, reasons,\n",
      "Nearest to had: have, boils, effort, wilder, brown, tried, pumpkin, steadily,\n",
      "Nearest to have: heartstrings, should, 've, shore, had, roar, 'd, wearing,\n",
      "Nearest to going: dairy, blotts, gloom, egg, mr., control, softly, afraid,\n",
      "Nearest to said: eating, lady, nostrils, friday, firework, eight, bubbles, stamp,\n",
      "Nearest to so: jet, frying, desire, thirst, ca, deep, quiver, head,\n",
      "Nearest to got: relax, often, o'clock, frantically, hurried, greed, bin, p-p-potter,\n",
      "Nearest to see: redheaded, read, mind, lawns, get, quiver, talk, do,\n",
      "Nearest to very: gorilla, -i, bedspread, done, interrupted, peering, prewetts, swayed,\n",
      "Nearest to how: why, foot, fluttering, die, hated, handsome, ooh, broken-down,\n",
      "Nearest to their: march, miranda, snakelike, fit, sick, druidess, cruel, bravely,\n",
      "Nearest to was: grand, 's, scared, echoes, plan, pellets, math, stern,\n",
      "Nearest to from: ignored, of, snitch, malfay, maple, thing, tick, wrestling,\n",
      "Nearest to hagrid: he, harry, mcgonagall, beach, downstairs, ebony, report, chances,\n",
      "Nearest to were: gasp, clock, pellets, robe, forgotten, ;, gasps, eat,\n"
     ]
    }
   ],
   "source": [
    "num_steps = 10001\n",
    "\n",
    "with tf.Session(graph=graph) as session:\n",
    "    # Open a writer to write summaries.\n",
    "    writer = tf.summary.FileWriter(log_dir, session.graph)\n",
    "\n",
    "    # We must initialize all variables before we use them.\n",
    "    init.run()\n",
    "    print('Initialized')\n",
    "\n",
    "    average_loss = 0\n",
    "    for step in xrange(num_steps):\n",
    "        batch_inputs, batch_labels = generate_batch(batch_size, num_skips,\n",
    "                                                    skip_window)\n",
    "        feed_dict = {train_inputs: batch_inputs, train_labels: batch_labels}\n",
    "\n",
    "        # Define metadata variable.\n",
    "        run_metadata = tf.RunMetadata()\n",
    "\n",
    "        # We perform one update step by evaluating the optimizer op (including it\n",
    "        # in the list of returned values for session.run()\n",
    "        # Also, evaluate the merged op to get all summaries from the returned\n",
    "        # \"summary\" variable. Feed metadata variable to session for visualizing\n",
    "        # the graph in TensorBoard.\n",
    "        _, summary, loss_val = session.run([optimizer, merged, loss],\n",
    "                                    feed_dict=feed_dict,\n",
    "                                    run_metadata=run_metadata)\n",
    "        average_loss += loss_val\n",
    "\n",
    "        # Add returned summaries to writer in each step.\n",
    "        writer.add_summary(summary, step)\n",
    "        # Add metadata to visualize the graph for the last run.\n",
    "        if step == (num_steps - 1):\n",
    "            writer.add_run_metadata(run_metadata, 'step%d' % step)\n",
    "\n",
    "        if step % 2000 == 0:\n",
    "            if step > 0:\n",
    "                average_loss /= 2000\n",
    "            # The average loss is an estimate of the loss over the last 2000\n",
    "            # batches.\n",
    "            print('Average loss at step ', step, ': ', average_loss)\n",
    "            average_loss = 0\n",
    "\n",
    "        # Note that this is expensive (~20% slowdown if computed every 500 steps)\n",
    "        if step % 10000 == 0:\n",
    "            sim = similarity.eval()\n",
    "            for i in xrange(valid_size):\n",
    "                valid_word = reverse_dictionary[valid_examples[i]]\n",
    "                top_k = 8  # number of nearest neighbors\n",
    "                nearest = (-sim[i, :]).argsort()[1:top_k + 1]\n",
    "                log_str = 'Nearest to %s:' % valid_word\n",
    "                for k in xrange(top_k):\n",
    "                    close_word = reverse_dictionary[nearest[k]]\n",
    "                    log_str = '%s %s,' % (log_str, close_word)\n",
    "                print(log_str)\n",
    "    final_embeddings = normalized_embeddings.eval()\n",
    "\n",
    "    # Write corresponding labels for the embeddings.\n",
    "    with open(log_dir + '/metadata.tsv', 'w') as f:\n",
    "        for i in xrange(vocabulary_size):\n",
    "            f.write(reverse_dictionary[i] + '\\n')\n",
    "\n",
    "    # Save the model for checkpoints.\n",
    "    saver.save(session, os.path.join(log_dir, 'model.ckpt'))\n",
    "\n",
    "    # Create a configuration for visualizing embeddings with the labels in\n",
    "    # TensorBoard.\n",
    "    config = projector.ProjectorConfig()\n",
    "    embedding_conf = config.embeddings.add()\n",
    "    embedding_conf.tensor_name = embeddings.name\n",
    "    embedding_conf.metadata_path = os.path.join(log_dir, 'metadata.tsv')\n",
    "    projector.visualize_embeddings(writer, config)\n",
    "\n",
    "writer.close()"
   ]
  },
  {
   "cell_type": "code",
   "execution_count": 23,
   "metadata": {
    "scrolled": false
   },
   "outputs": [
    {
     "name": "stdout",
     "output_type": "stream",
     "text": [
      "Initialized\n",
      "Average loss at step  0 :  205.47784423828125\n",
      "Nearest to then: selfish, big, crutches, expected, longer, longbottom, bred, concentrate,\n",
      "Nearest to of: firmly, landing, trolls, c-ca, drooled, vacuum, view, calling,\n",
      "Nearest to had: cabbages, professor, obviously, angry, pack, frowning, row, maple,\n",
      "Nearest to have: complicated, fail, fried, stacked, determined, angrily, yet, taste,\n",
      "Nearest to going: stamps, upf, whatever, control, surprise, no, fireplace, uses,\n",
      "Nearest to said: month-old, squashy, concentrate, 're, singled, bye, mixed, service,\n",
      "Nearest to so: weirdest, wouldn, alchemy, canary-yellow, league, late, absurd, visitors,\n",
      "Nearest to got: thieves, shriek, surely, pepper, peering, crack, chessmen, tears,\n",
      "Nearest to see: singing, circling, improve, pecked, longbottom, sharply, whipped, test,\n",
      "Nearest to very: instant, pretend, owned, but, promise, spot, sin, foolish,\n",
      "Nearest to how: tweak, witch, clean, sets, until, potion, blinding, carriages,\n",
      "Nearest to their: block, cushion, angles, arguments, business, ca, bolted, scruffs,\n",
      "Nearest to was: know, taste, books, add, sighed, quaver, shouted, whispers,\n",
      "Nearest to from: dared, tin, abnormal, figure, dodged, flourish, record, thirteen,\n",
      "Nearest to hagrid: silk, speeding, parties, malkin, swore, led, chasing, poor,\n",
      "Nearest to were: quill, instruments, cheeks, around, opposite, bowed, funny-shaped, smudged,\n",
      "Average loss at step  2000 :  22.771388206958772\n",
      "Average loss at step  4000 :  4.8594399067163465\n",
      "Average loss at step  6000 :  4.398331375002861\n",
      "Average loss at step  8000 :  4.24392004430294\n",
      "Average loss at step  10000 :  4.133264127731323\n",
      "Nearest to then: thought, selfish, expected, bottom, gathered, longbottom, if, big,\n",
      "Nearest to of: desk, landing, ignore, happier, whose, firmly, standard, drooled,\n",
      "Nearest to had: cabbages, row, maple, frowning, pack, case, poker, angry,\n",
      "Nearest to have: complicated, fail, 've, angrily, squeezed, call, taste, determined,\n",
      "Nearest to going: surprise, whatever, stamps, starting, knocking, no, wanted, control,\n",
      "Nearest to said: '', concentrate, month-old, bye, absolutely, dived, dear, headless,\n",
      "Nearest to so: weirdest, late, hello, lurking, wouldn, quite, bravery, gloatingly,\n",
      "Nearest to got: shriek, chessmen, do, surely, peering, thieves, pointed, crack,\n",
      "Nearest to see: tell, circling, longbottom, singing, test, improve, pecked, followed,\n",
      "Nearest to very: spot, opened, pretend, hissing, address, 17, calling, drone,\n",
      "Nearest to how: tweak, witch, tell, added, somethin, why, beetle, oh,\n",
      "Nearest to their: ca, arguments, cushion, parcel, visit, risk, classes, remembering,\n",
      "Nearest to was: taste, add, 's, pewter, rare, bet, sighed, know,\n",
      "Nearest to from: dared, note, flourish, smoke, owlery, severus, dodged, amazed,\n",
      "Nearest to hagrid: blow, harry, s, speeding, he, hermione, unwrap, aunt,\n",
      "Nearest to were: bowed, quill, cheeks, song, offhand, instruments, spot, wrote,\n",
      "Average loss at step  12000 :  4.078379411101341\n",
      "Average loss at step  14000 :  4.014688059449196\n",
      "Average loss at step  16000 :  3.968657221198082\n",
      "Average loss at step  18000 :  3.9245086306333543\n",
      "Average loss at step  20000 :  3.883818037390709\n",
      "Nearest to then: gathered, thought, scabbers, selfish, expected, if, '', ron,\n",
      "Nearest to of: desk, happier, pavement, ignore, landing, standard, las, whose,\n",
      "Nearest to had: cabbages, frowning, row, maple, have, case, pack, postcard,\n",
      "Nearest to have: fail, 've, complicated, squeezed, angrily, determined, call, taste,\n",
      "Nearest to going: starting, surprise, stamps, whatever, future, knocking, wanted, ill,\n",
      "Nearest to said: '', shouted, bye, service, remembered, dear, dived, month-old,\n",
      "Nearest to so: weirdest, hello, quite, bravery, late, gloatingly, lurking, wouldn,\n",
      "Nearest to got: unluckily, shriek, thieves, surely, chessmen, get, do, peering,\n",
      "Nearest to see: tell, circling, longbottom, singing, test, pecked, improve, sped,\n",
      "Nearest to very: opened, spot, address, 17, pretend, hissing, longer, calling,\n",
      "Nearest to how: tweak, why, tell, somethin, added, witch, beetle, anyway,\n",
      "Nearest to their: arguments, ca, cushion, speech, parcel, risk, championship, daughter,\n",
      "Nearest to was: taste, add, pewter, sighed, painting, rare, bet, shouted,\n",
      "Nearest to from: dared, note, :, flourish, relation, amazed, owlery, tawny,\n",
      "Nearest to hagrid: harry, blow, mom, aunt, he, hermione, ron, s,\n",
      "Nearest to were: bowed, song, wrote, barbers, cheeks, instruments, offhand, quill,\n",
      "Average loss at step  22000 :  3.8514256329536436\n",
      "Average loss at step  24000 :  3.8296141602993012\n",
      "Average loss at step  26000 :  3.7893708244562148\n",
      "Average loss at step  28000 :  3.7666595262289047\n",
      "Average loss at step  30000 :  3.75783915245533\n",
      "Nearest to then: '', gathered, fixing, smiles, thought, ron, stuffing, scabbers,\n",
      "Nearest to of: pavement, happier, ignore, desk, landing, las, whose, trolls,\n",
      "Nearest to had: cabbages, have, frowning, maple, case, row, pack, able,\n",
      "Nearest to have: 've, fail, complicated, determined, squeezed, had, angrily, flash,\n",
      "Nearest to going: starting, stamps, future, surprise, weirdos, knocking, dying, wanted,\n",
      "Nearest to said: shouted, '', remembered, bye, dived, smiled, month-old, absolutely,\n",
      "Nearest to so: weirdest, hello, quite, bravery, gloatingly, lurking, late, especially,\n",
      "Nearest to got: unluckily, get, thieves, shriek, surely, forgotten, supple, chessmen,\n",
      "Nearest to see: tell, circling, longbottom, test, singing, pecked, followed, improve,\n",
      "Nearest to very: opened, 17, address, pretend, longer, spot, valuable, hissing,\n",
      "Nearest to how: tweak, why, tell, somethin, added, pearly-white, beetle, gripped,\n",
      "Nearest to their: arguments, ca, cushion, speech, his, championship, dining, parcel,\n",
      "Nearest to was: taste, add, sighed, painting, pewter, is, shouted, flicked,\n",
      "Nearest to from: dared, relation, :, note, round, good'un, amazed, flourish,\n",
      "Nearest to hagrid: mom, blow, aunt, ron, harry, he, hermione, quirrell,\n",
      "Nearest to were: bowed, song, barbers, cheeks, instruments, wrote, throughout, offhand,\n",
      "Average loss at step  32000 :  3.7290680643320084\n",
      "Average loss at step  34000 :  3.7040208324193955\n",
      "Average loss at step  36000 :  3.699650695681572\n",
      "Average loss at step  38000 :  3.6839353054761887\n",
      "Average loss at step  40000 :  3.6498297196626663\n",
      "Nearest to then: fixing, smiles, stuffing, gave, defend, gathered, dishes, hobbled,\n",
      "Nearest to of: pavement, happier, ignore, desk, standard, sinks, whose, know,\n",
      "Nearest to had: cabbages, frowning, have, row, force, maple, case, able,\n",
      "Nearest to have: 've, fail, determined, had, complicated, squeezed, flash, angrily,\n",
      "Nearest to going: starting, stamps, future, dying, act, weirdos, ill, pointing,\n",
      "Nearest to said: shouted, remembered, smiled, bye, muttered, panted, '', whispered,\n",
      "Nearest to so: quite, bravery, hello, weirdest, gloatingly, especially, lurking, late,\n",
      "Nearest to got: unluckily, get, forgotten, thieves, supple, lip, surely, trapped,\n",
      "Nearest to see: tell, circling, longbottom, test, followed, singing, pecked, play,\n",
      "Nearest to very: opened, address, 17, longer, pretend, wizard, valuable, snorted,\n",
      "Nearest to how: tweak, why, tell, added, somethin, pearly-white, gripped, choked,\n",
      "Nearest to their: arguments, cushion, ca, speech, championship, barbers, dining, chip,\n",
      "Nearest to was: add, taste, painting, sighed, push, shouted, pewter, hairy,\n",
      "Nearest to from: dared, relation, :, good'un, round, write, note, colors,\n",
      "Nearest to hagrid: mom, aunt, ron, blow, harry, pelted, term, quirrell,\n",
      "Nearest to were: bowed, song, barbers, cheeks, high, throughout, wrote, instruments,\n",
      "Average loss at step  42000 :  3.649988298535347\n",
      "Average loss at step  44000 :  3.645056060552597\n",
      "Average loss at step  46000 :  3.6152478964328765\n",
      "Average loss at step  48000 :  3.600844760298729\n",
      "Average loss at step  50000 :  3.6123868843317033\n",
      "Nearest to then: fixing, smiles, defend, stuffing, proof, gave, hobbled, '',\n",
      "Nearest to of: pavement, happier, ignore, o, desk, know, whose, standard,\n",
      "Nearest to had: have, cabbages, frowning, case, force, barks, able, maple,\n",
      "Nearest to have: 've, fail, had, determined, flash, squeezed, complicated, angrily,\n",
      "Nearest to going: starting, future, dying, stamps, pointing, act, weirdos, cliodna,\n",
      "Nearest to said: shouted, remembered, smiled, panted, muttered, bye, whispered, '',\n",
      "Nearest to so: bravery, quite, hello, weirdest, especially, gloatingly, levi-o-sa, very,\n",
      "Nearest to got: unluckily, get, forgotten, lip, supple, thieves, trapped, speed,\n",
      "Nearest to see: tell, circling, followed, test, longbottom, pecked, singing, play,\n",
      "Nearest to very: opened, 17, address, longer, pretend, valuable, gon, wizard,\n",
      "Nearest to how: tweak, why, tell, added, pearly-white, gripped, somethin, choked,\n",
      "Nearest to their: arguments, cushion, speech, ca, his, barbers, chip, dining,\n",
      "Nearest to was: add, taste, sighed, painting, shouted, push, hairy, bet,\n",
      "Nearest to from: dared, relation, good'un, onto, :, write, round, colors,\n",
      "Nearest to hagrid: mom, ron, aunt, blow, harry, laughter, he, pelted,\n",
      "Nearest to were: bowed, song, barbers, cheeks, high, throughout, wrote, instruments,\n"
     ]
    },
    {
     "name": "stdout",
     "output_type": "stream",
     "text": [
      "Average loss at step  52000 :  3.591147082567215\n",
      "Average loss at step  54000 :  3.56831629049778\n",
      "Average loss at step  56000 :  3.570361108660698\n",
      "Average loss at step  58000 :  3.572842594861984\n",
      "Average loss at step  60000 :  3.5390918575525285\n",
      "Nearest to then: fixing, defend, stuffing, smiles, proof, gave, dishes, '',\n",
      "Nearest to of: pavement, o, ignore, happier, twenty-four, porcupine, standard, know,\n",
      "Nearest to had: frowning, have, cabbages, force, able, case, row, obviously,\n",
      "Nearest to have: 've, determined, fail, had, squeezed, flash, whistle, angrily,\n",
      "Nearest to going: starting, future, dying, stamps, pointing, act, cliodna, weirdos,\n",
      "Nearest to said: shouted, smiled, remembered, muttered, panted, whispered, bye, does,\n",
      "Nearest to so: bravery, hello, quite, weirdest, especially, levi-o-sa, very, gloatingly,\n",
      "Nearest to got: get, forgotten, unluckily, lip, supple, trapped, thieves, speed,\n",
      "Nearest to see: tell, followed, circling, test, longbottom, pecked, sha, play,\n",
      "Nearest to very: 17, opened, address, longer, pretend, offended, valuable, gon,\n",
      "Nearest to how: tweak, why, tell, pearly-white, added, instead, somethin, intently,\n",
      "Nearest to their: cushion, arguments, speech, chip, ca, his, barbers, championship,\n",
      "Nearest to was: add, painting, sighed, taste, push, shouted, bend, worried,\n",
      "Nearest to from: relation, dared, onto, write, good'un, round, :, malfoys,\n",
      "Nearest to hagrid: ron, mom, aunt, bulstrode, laughter, blow, term, flint,\n",
      "Nearest to were: bowed, high, cheeks, barbers, throughout, song, treasure, are,\n",
      "Average loss at step  62000 :  3.53389326274395\n",
      "Average loss at step  64000 :  3.5489563295841218\n",
      "Average loss at step  66000 :  3.5241810824871065\n",
      "Average loss at step  68000 :  3.507541560173035\n",
      "Average loss at step  70000 :  3.524747854232788\n",
      "Nearest to then: fixing, defend, proof, stuffing, smiles, '', idea, longer,\n",
      "Nearest to of: pavement, ignore, o, happier, whose, borrowed, porcupine, twenty-four,\n",
      "Nearest to had: have, frowning, force, cabbages, able, barks, feared, case,\n",
      "Nearest to have: 've, determined, had, fail, squeezed, whistle, take, flash,\n",
      "Nearest to going: starting, dying, future, pointing, act, stamps, cliodna, related,\n",
      "Nearest to said: muttered, shouted, remembered, smiled, panted, whispered, bye, gasped,\n",
      "Nearest to so: bravery, quite, weirdest, hello, especially, very, levi-o-sa, tallest,\n",
      "Nearest to got: get, forgotten, unluckily, lip, supple, trapped, speed, gotten,\n",
      "Nearest to see: tell, followed, circling, test, pecked, sha, longbottom, play,\n",
      "Nearest to very: longer, opened, offended, 17, address, gon, pretend, valuable,\n",
      "Nearest to how: tweak, why, pearly-white, tell, added, instead, gripped, shining,\n",
      "Nearest to their: cushion, arguments, speech, babble, his, chip, steering, dining,\n",
      "Nearest to was: painting, sighed, add, push, taste, shouted, worried, hairy,\n",
      "Nearest to from: relation, dared, onto, write, good'un, malfoys, :, colors,\n",
      "Nearest to hagrid: mom, ron, bulstrode, aunt, laughter, shrilly, term, percy,\n",
      "Nearest to were: bowed, cheeks, high, treasure, barbers, throughout, are, pieces,\n",
      "Average loss at step  72000 :  3.5132976690530775\n",
      "Average loss at step  74000 :  3.4855359576940534\n",
      "Average loss at step  76000 :  3.4929343276023865\n",
      "Average loss at step  78000 :  3.5061585278511047\n",
      "Average loss at step  80000 :  3.4647570606470106\n",
      "Nearest to then: fixing, defend, proof, stuffing, smiles, idea, waist, '',\n",
      "Nearest to of: pavement, o, ignore, twenty-four, porcupine, standard, know, mount,\n",
      "Nearest to had: frowning, have, cabbages, force, able, row, feared, drifting,\n",
      "Nearest to have: 've, determined, had, take, whistle, squeezed, fail, flash,\n",
      "Nearest to going: starting, dying, future, pointing, related, act, cliodna, clock,\n",
      "Nearest to said: shouted, muttered, smiled, remembered, panted, whispered, bye, barked,\n",
      "Nearest to so: especially, weirdest, hello, bravery, quite, very, levi-o-sa, buckled,\n",
      "Nearest to got: get, forgotten, unluckily, lip, supple, trapped, speed, gotten,\n",
      "Nearest to see: tell, followed, test, circling, sha, pecked, noticing, play,\n",
      "Nearest to very: offended, longer, 17, opened, gon, address, pretend, so,\n",
      "Nearest to how: tweak, why, pearly-white, tell, instead, intently, offended, imagine,\n",
      "Nearest to their: cushion, arguments, speech, chip, helicopters, babble, his, listen,\n",
      "Nearest to was: painting, add, sighed, push, bend, shouted, worried, hairy,\n",
      "Nearest to from: relation, dared, onto, malfoys, good'un, write, by, :,\n",
      "Nearest to hagrid: ron, mom, bulstrode, term, laughter, shrilly, flint, aunt,\n",
      "Nearest to were: bowed, high, exams, throughout, cheeks, barbers, treasure, draw,\n",
      "Average loss at step  82000 :  3.4617502512931826\n",
      "Average loss at step  84000 :  3.4868863607645033\n",
      "Average loss at step  86000 :  3.465874992966652\n",
      "Average loss at step  88000 :  3.4480504100322724\n",
      "Average loss at step  90000 :  3.4638387398719788\n",
      "Nearest to then: fixing, defend, proof, idea, stuffing, smiles, waist, duels,\n",
      "Nearest to of: pavement, o, ignore, twenty-four, whose, porcupine, leaned, borrowed,\n",
      "Nearest to had: frowning, have, force, cabbages, feared, barks, able, drifting,\n",
      "Nearest to have: 've, determined, take, had, whistle, squeezed, horrified, fail,\n",
      "Nearest to going: dying, starting, future, pointing, related, clock, act, cliodna,\n",
      "Nearest to said: muttered, shouted, remembered, panted, whispered, smiled, bye, barked,\n",
      "Nearest to so: especially, weirdest, hello, bravery, very, buckled, quite, levi-o-sa,\n",
      "Nearest to got: get, forgotten, unluckily, supple, lip, trapped, gotten, speed,\n",
      "Nearest to see: tell, followed, test, circling, sha, noticing, pecked, firelight,\n",
      "Nearest to very: offended, longer, 17, gon, opened, so, address, smelting,\n",
      "Nearest to how: tweak, why, instead, imagine, pearly-white, play, tell, what,\n",
      "Nearest to their: cushion, speech, arguments, his, helicopters, howls, babble, chip,\n",
      "Nearest to was: sighed, painting, add, worried, push, shouted, hairy, bend,\n",
      "Nearest to from: relation, dared, onto, malfoys, good'un, write, by, forty-two,\n",
      "Nearest to hagrid: ron, bulstrode, mom, shrilly, professor, term, laughter, percy,\n",
      "Nearest to were: bowed, exams, cheeks, high, treasure, offhand, pieces, barbers,\n",
      "Average loss at step  92000 :  3.4654632556438445\n",
      "Average loss at step  94000 :  3.432878450989723\n",
      "Average loss at step  96000 :  3.4320756156444547\n",
      "Average loss at step  98000 :  3.4626693189144135\n",
      "Average loss at step  100000 :  3.429745918750763\n",
      "Nearest to then: fixing, defend, proof, waist, idea, stuffing, smiles, '',\n",
      "Nearest to of: pavement, o, ignore, porcupine, standard, twenty-four, borrowed, mount,\n",
      "Nearest to had: frowning, have, force, cabbages, drifting, feared, squat, barks,\n",
      "Nearest to have: 've, determined, whistle, take, had, squeezed, flash, wanting,\n",
      "Nearest to going: dying, starting, future, pointing, related, clock, worth, act,\n",
      "Nearest to said: muttered, shouted, panted, remembered, smiled, whispered, barked, bye,\n",
      "Nearest to so: especially, weirdest, buckled, very, hello, bravery, levi-o-sa, shredded,\n",
      "Nearest to got: get, forgotten, unluckily, supple, lip, trapped, leapt, gotten,\n",
      "Nearest to see: tell, followed, noticing, test, circling, sha, pecked, firelight,\n",
      "Nearest to very: offended, longer, gon, 17, smelting, opened, so, address,\n",
      "Nearest to how: tweak, why, imagine, play, others, pearly-white, intently, instead,\n",
      "Nearest to their: cushion, helicopters, chip, speech, howls, babble, arguments, his,\n",
      "Nearest to was: push, sighed, painting, add, bend, worried, shouted, hairy,\n",
      "Nearest to from: relation, onto, malfoys, dared, good'un, by, write, forty-two,\n",
      "Nearest to hagrid: bulstrode, ron, mom, shrilly, term, percy, professor, laughter,\n",
      "Nearest to were: bowed, exams, cheeks, high, treasure, pieces, offhand, barbers,\n"
     ]
    }
   ],
   "source": [
    "num_steps = 100001\n",
    "\n",
    "with tf.Session(graph=graph) as session:\n",
    "    # Open a writer to write summaries.\n",
    "    writer = tf.summary.FileWriter(log_dir, session.graph)\n",
    "\n",
    "    # We must initialize all variables before we use them.\n",
    "    init.run()\n",
    "    print('Initialized')\n",
    "\n",
    "    average_loss = 0\n",
    "    for step in xrange(num_steps):\n",
    "        batch_inputs, batch_labels = generate_batch(batch_size, num_skips,\n",
    "                                                    skip_window)\n",
    "        feed_dict = {train_inputs: batch_inputs, train_labels: batch_labels}\n",
    "\n",
    "        # Define metadata variable.\n",
    "        run_metadata = tf.RunMetadata()\n",
    "\n",
    "        # We perform one update step by evaluating the optimizer op (including it\n",
    "        # in the list of returned values for session.run()\n",
    "        # Also, evaluate the merged op to get all summaries from the returned\n",
    "        # \"summary\" variable. Feed metadata variable to session for visualizing\n",
    "        # the graph in TensorBoard.\n",
    "        _, summary, loss_val = session.run([optimizer, merged, loss],\n",
    "                                    feed_dict=feed_dict,\n",
    "                                    run_metadata=run_metadata)\n",
    "        average_loss += loss_val\n",
    "\n",
    "        # Add returned summaries to writer in each step.\n",
    "        writer.add_summary(summary, step)\n",
    "        # Add metadata to visualize the graph for the last run.\n",
    "        if step == (num_steps - 1):\n",
    "            writer.add_run_metadata(run_metadata, 'step%d' % step)\n",
    "\n",
    "        if step % 2000 == 0:\n",
    "            if step > 0:\n",
    "                average_loss /= 2000\n",
    "            # The average loss is an estimate of the loss over the last 2000\n",
    "            # batches.\n",
    "            print('Average loss at step ', step, ': ', average_loss)\n",
    "            average_loss = 0\n",
    "\n",
    "        # Note that this is expensive (~20% slowdown if computed every 500 steps)\n",
    "        if step % 10000 == 0:\n",
    "            sim = similarity.eval()\n",
    "            for i in xrange(valid_size):\n",
    "                valid_word = reverse_dictionary[valid_examples[i]]\n",
    "                top_k = 8  # number of nearest neighbors\n",
    "                nearest = (-sim[i, :]).argsort()[1:top_k + 1]\n",
    "                log_str = 'Nearest to %s:' % valid_word\n",
    "                for k in xrange(top_k):\n",
    "                    close_word = reverse_dictionary[nearest[k]]\n",
    "                    log_str = '%s %s,' % (log_str, close_word)\n",
    "                print(log_str)\n",
    "    final_embeddings = normalized_embeddings.eval()\n",
    "\n",
    "    # Write corresponding labels for the embeddings.\n",
    "    with open(log_dir + '/metadata.tsv', 'w') as f:\n",
    "        for i in xrange(vocabulary_size):\n",
    "            f.write(reverse_dictionary[i] + '\\n')\n",
    "\n",
    "    # Save the model for checkpoints.\n",
    "    saver.save(session, os.path.join(log_dir, 'model.ckpt'))\n",
    "\n",
    "    # Create a configuration for visualizing embeddings with the labels in\n",
    "    # TensorBoard.\n",
    "    config = projector.ProjectorConfig()\n",
    "    embedding_conf = config.embeddings.add()\n",
    "    embedding_conf.tensor_name = embeddings.name\n",
    "    embedding_conf.metadata_path = os.path.join(log_dir, 'metadata.tsv')\n",
    "    projector.visualize_embeddings(writer, config)\n",
    "\n",
    "writer.close()"
   ]
  },
  {
   "cell_type": "code",
   "execution_count": null,
   "metadata": {},
   "outputs": [],
   "source": []
  }
 ],
 "metadata": {
  "kernelspec": {
   "display_name": "Python 3",
   "language": "python",
   "name": "python3"
  },
  "language_info": {
   "codemirror_mode": {
    "name": "ipython",
    "version": 3
   },
   "file_extension": ".py",
   "mimetype": "text/x-python",
   "name": "python",
   "nbconvert_exporter": "python",
   "pygments_lexer": "ipython3",
   "version": "3.6.8"
  }
 },
 "nbformat": 4,
 "nbformat_minor": 2
}
