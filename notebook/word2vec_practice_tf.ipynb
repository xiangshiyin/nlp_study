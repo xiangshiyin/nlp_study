{
 "cells": [
  {
   "cell_type": "markdown",
   "metadata": {},
   "source": [
    "# Stepwise exercise on TensorFlow's code example on Word2Vec algorithm\n",
    "\n",
    "[source code](https://github.com/tensorflow/tensorflow/blob/master/tensorflow/examples/tutorials/word2vec/word2vec_basic.py)"
   ]
  },
  {
   "cell_type": "code",
   "execution_count": 1,
   "metadata": {},
   "outputs": [],
   "source": [
    "from __future__ import absolute_import\n",
    "from __future__ import division\n",
    "from __future__ import print_function\n",
    "\n",
    "import argparse\n",
    "import collections\n",
    "import math\n",
    "import os\n",
    "import random\n",
    "import sys\n",
    "from tempfile import gettempdir\n",
    "import zipfile\n",
    "\n",
    "import numpy as np\n",
    "from six.moves import urllib\n",
    "from six.moves import xrange  # pylint: disable=redefined-builtin\n",
    "import tensorflow as tf\n",
    "\n",
    "from tensorflow.contrib.tensorboard.plugins import projector\n",
    "\n",
    "data_index = 0\n"
   ]
  },
  {
   "cell_type": "code",
   "execution_count": 2,
   "metadata": {},
   "outputs": [
    {
     "data": {
      "text/plain": [
       "'1.14.0'"
      ]
     },
     "execution_count": 2,
     "metadata": {},
     "output_type": "execute_result"
    }
   ],
   "source": [
    "tf.__version__"
   ]
  },
  {
   "cell_type": "markdown",
   "metadata": {},
   "source": [
    "#### break the source code into chunks"
   ]
  },
  {
   "cell_type": "code",
   "execution_count": 3,
   "metadata": {},
   "outputs": [],
   "source": [
    "log_dir = '../log'\n",
    "\n",
    "\"\"\"Example of building, training and visualizing a word2vec model.\"\"\"\n",
    "# Create the directory for TensorBoard variables if there is not.\n",
    "if not os.path.exists(log_dir):\n",
    "    os.makedirs(log_dir)\n",
    "\n",
    "# Step 1: Download the data.\n",
    "url = 'http://mattmahoney.net/dc/'"
   ]
  },
  {
   "cell_type": "markdown",
   "metadata": {},
   "source": [
    "## step 1: download the raw data"
   ]
  },
  {
   "cell_type": "code",
   "execution_count": 4,
   "metadata": {},
   "outputs": [
    {
     "data": {
      "text/plain": [
       "'/var/folders/_r/1t3rxwvj54l7tk0jrx5r2j640000gq/T'"
      ]
     },
     "execution_count": 4,
     "metadata": {},
     "output_type": "execute_result"
    }
   ],
   "source": [
    "gettempdir()"
   ]
  },
  {
   "cell_type": "code",
   "execution_count": 5,
   "metadata": {},
   "outputs": [
    {
     "name": "stdout",
     "output_type": "stream",
     "text": [
      "Found and verified text8.zip\n"
     ]
    }
   ],
   "source": [
    "# pylint: disable=redefined-outer-name\n",
    "def maybe_download(filename, expected_bytes):\n",
    "    \"\"\"Download a file if not present, and make sure it's the right size.\"\"\"\n",
    "    local_filename = os.path.join(gettempdir(), filename)\n",
    "    if not os.path.exists(local_filename):\n",
    "        local_filename, _ = urllib.request.urlretrieve(url + filename,\n",
    "                                                       local_filename)\n",
    "    statinfo = os.stat(local_filename)\n",
    "    if statinfo.st_size == expected_bytes:\n",
    "        print('Found and verified', filename)\n",
    "    else:\n",
    "        print(statinfo.st_size)\n",
    "        raise Exception('Failed to verify ' + local_filename +\n",
    "                      '. Can you get to it with a browser?')\n",
    "    return local_filename\n",
    "\n",
    "filename = maybe_download('text8.zip', 31344016)"
   ]
  },
  {
   "cell_type": "code",
   "execution_count": 6,
   "metadata": {},
   "outputs": [
    {
     "data": {
      "text/plain": [
       "'/var/folders/_r/1t3rxwvj54l7tk0jrx5r2j640000gq/T/text8.zip'"
      ]
     },
     "execution_count": 6,
     "metadata": {},
     "output_type": "execute_result"
    }
   ],
   "source": [
    "filename"
   ]
  },
  {
   "cell_type": "markdown",
   "metadata": {},
   "source": [
    "## step 2: Read the data into a list of strings."
   ]
  },
  {
   "cell_type": "code",
   "execution_count": 7,
   "metadata": {},
   "outputs": [
    {
     "name": "stdout",
     "output_type": "stream",
     "text": [
      "Data size 17005207\n"
     ]
    }
   ],
   "source": [
    "def read_data(filename):\n",
    "    \"\"\"Extract the first file enclosed in a zip file as a list of words.\"\"\"\n",
    "    with zipfile.ZipFile(filename) as f:\n",
    "        data = tf.compat.as_str(f.read(f.namelist()[0])).split()\n",
    "    return data\n",
    "\n",
    "vocabulary = read_data(filename)\n",
    "print('Data size', len(vocabulary))"
   ]
  },
  {
   "cell_type": "code",
   "execution_count": 8,
   "metadata": {},
   "outputs": [
    {
     "data": {
      "text/plain": [
       "list"
      ]
     },
     "execution_count": 8,
     "metadata": {},
     "output_type": "execute_result"
    }
   ],
   "source": [
    "type(vocabulary)"
   ]
  },
  {
   "cell_type": "code",
   "execution_count": 9,
   "metadata": {},
   "outputs": [
    {
     "data": {
      "text/plain": [
       "['anarchism', 'originated', 'as', 'a', 'term']"
      ]
     },
     "execution_count": 9,
     "metadata": {},
     "output_type": "execute_result"
    }
   ],
   "source": [
    "vocabulary[:5]"
   ]
  },
  {
   "cell_type": "code",
   "execution_count": 10,
   "metadata": {},
   "outputs": [
    {
     "data": {
      "text/plain": [
       "253854"
      ]
     },
     "execution_count": 10,
     "metadata": {},
     "output_type": "execute_result"
    }
   ],
   "source": [
    "len(set(vocabulary)) ## 253,854 unique words"
   ]
  },
  {
   "cell_type": "markdown",
   "metadata": {},
   "source": [
    "## step 3: Build the dictionary and replace rare words with UNK token."
   ]
  },
  {
   "cell_type": "code",
   "execution_count": 11,
   "metadata": {},
   "outputs": [
    {
     "data": {
      "text/plain": [
       "[['UNK', -1],\n",
       " ('the', 1061396),\n",
       " ('of', 593677),\n",
       " ('and', 416629),\n",
       " ('one', 411764)]"
      ]
     },
     "execution_count": 11,
     "metadata": {},
     "output_type": "execute_result"
    }
   ],
   "source": [
    "words = vocabulary\n",
    "n_words = 50000\n",
    "\n",
    "count = [['UNK', -1]]\n",
    "count.extend(collections.Counter(words).most_common(n_words - 1))\n",
    "count[:5]"
   ]
  },
  {
   "cell_type": "code",
   "execution_count": 12,
   "metadata": {},
   "outputs": [
    {
     "data": {
      "text/plain": [
       "(0, 1, 2)"
      ]
     },
     "execution_count": 12,
     "metadata": {},
     "output_type": "execute_result"
    }
   ],
   "source": [
    "dictionary = {}\n",
    "for word, _ in count:\n",
    "    dictionary[word] = len(dictionary)\n",
    "dictionary['UNK'], dictionary['the'], dictionary['of']"
   ]
  },
  {
   "cell_type": "markdown",
   "metadata": {},
   "source": [
    "#### put all together"
   ]
  },
  {
   "cell_type": "code",
   "execution_count": 13,
   "metadata": {},
   "outputs": [
    {
     "name": "stdout",
     "output_type": "stream",
     "text": [
      "Most common words (+UNK) [['UNK', 418391], ('the', 1061396), ('of', 593677), ('and', 416629), ('one', 411764)]\n",
      "Sample data [5234, 3081, 12, 6, 195, 2, 3134, 46, 59, 156] ['anarchism', 'originated', 'as', 'a', 'term', 'of', 'abuse', 'first', 'used', 'against']\n"
     ]
    }
   ],
   "source": [
    "vocabulary_size = 50000\n",
    "\n",
    "def build_dataset(words, n_words):\n",
    "    \"\"\"Process raw inputs into a dataset.\"\"\"\n",
    "    count = [['UNK', -1]]\n",
    "    count.extend(collections.Counter(words).most_common(n_words - 1)) # get top 50k words in frequency\n",
    "    dictionary = {}\n",
    "    for word, _ in count:\n",
    "        dictionary[word] = len(dictionary) # index those top words by frequency ranking\n",
    "    data = []\n",
    "    unk_count = 0\n",
    "    for word in words:\n",
    "        index = dictionary.get(word, 0)\n",
    "        if index == 0:  # dictionary['UNK']\n",
    "            unk_count += 1\n",
    "        data.append(index) # collect indices of all words\n",
    "    count[0][1] = unk_count # update the UNK count, which is everything else except top 50k-1\n",
    "    reversed_dictionary = dict(zip(dictionary.values(), dictionary.keys()))\n",
    "    return data, count, dictionary, reversed_dictionary\n",
    "\n",
    "  # Filling 4 global variables:\n",
    "# data - list of codes (integers from 0 to vocabulary_size-1).\n",
    "#   This is the original text but words are replaced by their codes\n",
    "# count - map of words(strings) to count of occurrences\n",
    "# dictionary - map of words(strings) to their codes(integers)\n",
    "# reverse_dictionary - maps codes(integers) to words(strings)\n",
    "data, count, unused_dictionary, reverse_dictionary = build_dataset(\n",
    "  vocabulary, vocabulary_size)\n",
    "del vocabulary  # Hint to reduce memory.\n",
    "print('Most common words (+UNK)', count[:5])\n",
    "print('Sample data', data[:10], [reverse_dictionary[i] for i in data[:10]])"
   ]
  },
  {
   "cell_type": "markdown",
   "metadata": {},
   "source": [
    "## step 4: Function to generate a training batch for the skip-gram model."
   ]
  },
  {
   "cell_type": "code",
   "execution_count": 14,
   "metadata": {},
   "outputs": [],
   "source": [
    "data_index=0\n",
    "data2 = data[:5].copy()"
   ]
  },
  {
   "cell_type": "code",
   "execution_count": 15,
   "metadata": {
    "scrolled": false
   },
   "outputs": [
    {
     "name": "stdout",
     "output_type": "stream",
     "text": [
      "data_index: 0\n",
      "length of data: 5\n",
      "original batch: [          0 -2147483648   506180475  -536868870 -1840119806       32767\n",
      "   506182379      133114]\n",
      "original labels: [[          0]\n",
      " [-2147483648]\n",
      " [  506183825]\n",
      " [-1342175238]\n",
      " [ -491061246]\n",
      " [      32673]\n",
      " [         12]\n",
      " [     131369]]\n",
      "span: 3\n",
      "buffer: deque([5234, 3081, 12], maxlen=3)\n",
      "iteration 0, context words: [0, 2]\n",
      "iteration 0, words to use: [2, 0]\n",
      "iteration 0, batch: [       3081        3081   506180475  -536868870 -1840119806       32767\n",
      "   506182379      133114]\n",
      "iteration 0, labels: [[         12]\n",
      " [       5234]\n",
      " [  506183825]\n",
      " [-1342175238]\n",
      " [ -491061246]\n",
      " [      32673]\n",
      " [         12]\n",
      " [     131369]]\n",
      "new buffer: deque([3081, 12, 6], maxlen=3)\n",
      "data_index: 4\n",
      "iteration 1, context words: [0, 2]\n",
      "iteration 1, words to use: [2, 0]\n",
      "iteration 1, batch: [       3081        3081          12          12 -1840119806       32767\n",
      "   506182379      133114]\n",
      "iteration 1, labels: [[        12]\n",
      " [      5234]\n",
      " [         6]\n",
      " [      3081]\n",
      " [-491061246]\n",
      " [     32673]\n",
      " [        12]\n",
      " [    131369]]\n",
      "new buffer: deque([12, 6, 195], maxlen=3)\n",
      "data_index: 5\n",
      "iteration 2, context words: [0, 2]\n",
      "iteration 2, words to use: [2, 0]\n",
      "iteration 2, batch: [     3081      3081        12        12         6         6 506182379\n",
      "    133114]\n",
      "iteration 2, labels: [[    12]\n",
      " [  5234]\n",
      " [     6]\n",
      " [  3081]\n",
      " [   195]\n",
      " [    12]\n",
      " [    12]\n",
      " [131369]]\n",
      "new buffer: deque([5234, 3081, 12], maxlen=3)\n",
      "data_index: 3\n",
      "iteration 3, context words: [0, 2]\n",
      "iteration 3, words to use: [2, 0]\n",
      "iteration 3, batch: [3081 3081   12   12    6    6 3081 3081]\n",
      "iteration 3, labels: [[  12]\n",
      " [5234]\n",
      " [   6]\n",
      " [3081]\n",
      " [ 195]\n",
      " [  12]\n",
      " [  12]\n",
      " [5234]]\n",
      "new buffer: deque([3081, 12, 6], maxlen=3)\n",
      "data_index: 4\n",
      "Finally, data_index: 1\n"
     ]
    }
   ],
   "source": [
    "def generate_batch(batch_size, num_skips, skip_window):\n",
    "    global data_index\n",
    "    print('data_index: {}'.format(data_index))\n",
    "    print('length of data: {}'.format(len(data2)))\n",
    "    assert batch_size % num_skips == 0\n",
    "    assert num_skips <= 2 * skip_window\n",
    "    batch = np.ndarray(shape=(batch_size), dtype=np.int32)\n",
    "    labels = np.ndarray(shape=(batch_size, 1), dtype=np.int32)\n",
    "    print('original batch: {}'.format(batch))\n",
    "    print('original labels: {}'.format(labels))\n",
    "    span = 2 * skip_window + 1  # [ skip_window target skip_window ]\n",
    "    print('span: {}'.format(span))\n",
    "    ## create a double ended queue representing the range of [ skip_window target skip_window ]\n",
    "    buffer = collections.deque(maxlen=span)  # pylint: disable=redefined-builtin\n",
    "    if data_index + span > len(data2):\n",
    "        data_index = 0 ## what does this do??\n",
    "    buffer.extend(data2[data_index:data_index + span])\n",
    "    print('buffer: {}'.format(buffer))\n",
    "    data_index += span\n",
    "    for i in range(batch_size // num_skips):\n",
    "        context_words = [w for w in range(span) if w != skip_window]\n",
    "        print('iteration {}, context words: {}'.format(i, context_words))\n",
    "        words_to_use = random.sample(context_words, num_skips) # num of context words to use\n",
    "        print('iteration {}, words to use: {}'.format(i, words_to_use))\n",
    "        for j, context_word in enumerate(words_to_use):\n",
    "            batch[i * num_skips + j] = buffer[skip_window] # the target word??\n",
    "            labels[i * num_skips + j, 0] = buffer[context_word] # the context words??\n",
    "        print('iteration {}, batch: {}'.format(i, batch))\n",
    "        print('iteration {}, labels: {}'.format(i, labels))\n",
    "        if data_index == len(data2): # get to the end of the data, start over again\n",
    "            buffer.extend(data2[0:span])\n",
    "            data_index = span\n",
    "        else:\n",
    "            buffer.append(data2[data_index]) # move the buffer window by 1 unit\n",
    "            data_index += 1\n",
    "        print('new buffer: {}'.format(buffer))\n",
    "        print('data_index: {}'.format(data_index))\n",
    "    # Backtrack a little bit to avoid skipping words in the end of a batch\n",
    "    data_index = (data_index + len(data2) - span) % len(data2)\n",
    "    print('Finally, data_index: {}'.format(data_index))\n",
    "    return batch, labels\n",
    "\n",
    "batch, labels = generate_batch(batch_size=8, num_skips=2, skip_window=1)\n",
    "# for i in range(8):\n",
    "#     print(batch[i], reverse_dictionary[batch[i]], '->', labels[i, 0],\n",
    "#           reverse_dictionary[labels[i, 0]])"
   ]
  },
  {
   "cell_type": "code",
   "execution_count": 16,
   "metadata": {},
   "outputs": [
    {
     "data": {
      "text/plain": [
       "1"
      ]
     },
     "execution_count": 16,
     "metadata": {},
     "output_type": "execute_result"
    }
   ],
   "source": [
    "(4+17005207-3)%17005207"
   ]
  },
  {
   "cell_type": "code",
   "execution_count": 17,
   "metadata": {},
   "outputs": [
    {
     "name": "stdout",
     "output_type": "stream",
     "text": [
      "Finally, batch: [3081 3081   12   12    6    6 3081 3081]\n",
      "Finally, labels: [[  12]\n",
      " [5234]\n",
      " [   6]\n",
      " [3081]\n",
      " [ 195]\n",
      " [  12]\n",
      " [  12]\n",
      " [5234]]\n",
      "data_index: 1\n"
     ]
    }
   ],
   "source": [
    "print('Finally, batch: {}'.format(batch))\n",
    "print('Finally, labels: {}'.format(labels))\n",
    "print('data_index: {}'.format(data_index))"
   ]
  },
  {
   "cell_type": "code",
   "execution_count": 18,
   "metadata": {},
   "outputs": [
    {
     "data": {
      "text/plain": [
       "[5234, 3081, 12, 6, 195, 2, 3134, 46, 59, 156, 128, 742, 477, 10572, 134]"
      ]
     },
     "execution_count": 18,
     "metadata": {},
     "output_type": "execute_result"
    }
   ],
   "source": [
    "data[:15]"
   ]
  },
  {
   "cell_type": "markdown",
   "metadata": {},
   "source": [
    "#### put it all together"
   ]
  },
  {
   "cell_type": "code",
   "execution_count": 19,
   "metadata": {},
   "outputs": [
    {
     "name": "stdout",
     "output_type": "stream",
     "text": [
      "3081 originated -> 12 as\n",
      "3081 originated -> 5234 anarchism\n",
      "12 as -> 6 a\n",
      "12 as -> 3081 originated\n",
      "6 a -> 12 as\n",
      "6 a -> 195 term\n",
      "195 term -> 2 of\n",
      "195 term -> 6 a\n"
     ]
    }
   ],
   "source": [
    "data_index = 0\n",
    "\n",
    "def generate_batch(batch_size, num_skips, skip_window):\n",
    "    global data_index\n",
    "    # print('data_index: {}'.format(data_index))\n",
    "    # print('length of data: {}'.format(len(data)))\n",
    "    assert batch_size % num_skips == 0\n",
    "    assert num_skips <= 2 * skip_window\n",
    "    batch = np.ndarray(shape=(batch_size), dtype=np.int32)\n",
    "    labels = np.ndarray(shape=(batch_size, 1), dtype=np.int32)\n",
    "    # print('original batch: {}'.format(batch))\n",
    "    # print('original labels: {}'.format(labels))\n",
    "    span = 2 * skip_window + 1  # [ skip_window target skip_window ]\n",
    "    # print('span: {}'.format(span))\n",
    "    ## create a double ended queue representing the range of [ skip_window target skip_window ]\n",
    "    buffer = collections.deque(maxlen=span)  # pylint: disable=redefined-builtin\n",
    "    if data_index + span > len(data):\n",
    "        data_index = 0 ## what does this do??\n",
    "    buffer.extend(data[data_index:data_index + span])\n",
    "    # print('buffer: {}'.format(buffer))\n",
    "    data_index += span\n",
    "    for i in range(batch_size // num_skips):\n",
    "        context_words = [w for w in range(span) if w != skip_window]\n",
    "        # print('iteration {}, context words: {}'.format(i, context_words))\n",
    "        words_to_use = random.sample(context_words, num_skips) # num of context words to use\n",
    "        # print('iteration {}, words to use: {}'.format(i, words_to_use))\n",
    "        for j, context_word in enumerate(words_to_use):\n",
    "            batch[i * num_skips + j] = buffer[skip_window] # the target word??\n",
    "            labels[i * num_skips + j, 0] = buffer[context_word] # the context words??\n",
    "        # print('iteration {}, batch: {}'.format(i, batch))\n",
    "        # print('iteration {}, labels: {}'.format(i, labels))\n",
    "        if data_index == len(data): # get to the end of the data, start over again\n",
    "            buffer.extend(data[0:span])\n",
    "            data_index = span\n",
    "        else:\n",
    "            buffer.append(data[data_index]) # move the buffer window by 1 unit\n",
    "            data_index += 1\n",
    "        # print('new buffer: {}'.format(buffer))\n",
    "        # print('data_index: {}'.format(data_index))\n",
    "    # Backtrack a little bit to avoid skipping words in the end of a batch\n",
    "    data_index = (data_index + len(data) - span) % len(data)\n",
    "    # print('Finally, data_index: {}'.format(data_index))\n",
    "    return batch, labels\n",
    "\n",
    "batch, labels = generate_batch(batch_size=8, num_skips=2, skip_window=1)\n",
    "for i in range(8):\n",
    "    print(batch[i], reverse_dictionary[batch[i]], '->', labels[i, 0],\n",
    "          reverse_dictionary[labels[i, 0]])"
   ]
  },
  {
   "cell_type": "markdown",
   "metadata": {},
   "source": [
    "## step 5: Build and train a skip-gram model."
   ]
  },
  {
   "cell_type": "code",
   "execution_count": 20,
   "metadata": {},
   "outputs": [
    {
     "data": {
      "text/plain": [
       "array([99, 87, 79,  2, 59, 12, 76, 71,  4, 96,  1, 48, 78, 22, 19, 86])"
      ]
     },
     "execution_count": 20,
     "metadata": {},
     "output_type": "execute_result"
    }
   ],
   "source": [
    "valid_size = 16  # Random set of words to evaluate similarity on.\n",
    "valid_window = 100  # Only pick dev samples in the head of the distribution.\n",
    "np.random.choice(valid_window, valid_size, replace=False)"
   ]
  },
  {
   "cell_type": "code",
   "execution_count": 21,
   "metadata": {
    "scrolled": true
   },
   "outputs": [
    {
     "name": "stderr",
     "output_type": "stream",
     "text": [
      "WARNING: Logging before flag parsing goes to stderr.\n",
      "W0625 23:53:38.294628 4529460672 deprecation.py:323] From /anaconda3/envs/py36/lib/python3.6/site-packages/tensorflow/python/ops/nn_impl.py:180: add_dispatch_support.<locals>.wrapper (from tensorflow.python.ops.array_ops) is deprecated and will be removed in a future version.\n",
      "Instructions for updating:\n",
      "Use tf.where in 2.0, which has the same broadcast rule as np.where\n"
     ]
    }
   ],
   "source": [
    "batch_size = 128\n",
    "embedding_size = 128  # Dimension of the embedding vector.\n",
    "skip_window = 1  # How many words to consider left and right.\n",
    "num_skips = 2  # How many times to reuse an input to generate a label.\n",
    "num_sampled = 64  # Number of negative examples to sample.\n",
    "\n",
    "# We pick a random validation set to sample nearest neighbors. Here we limit\n",
    "# the validation samples to the words that have a low numeric ID, which by\n",
    "# construction are also the most frequent. These 3 variables are used only for\n",
    "# displaying model accuracy, they don't affect calculation.\n",
    "valid_size = 16  # Random set of words to evaluate similarity on.\n",
    "valid_window = 100  # Only pick dev samples in the head of the distribution.\n",
    "valid_examples = np.random.choice(valid_window, valid_size, replace=False)\n",
    "\n",
    "graph = tf.Graph()\n",
    "\n",
    "with graph.as_default():\n",
    "\n",
    "    # Input data.\n",
    "    with tf.name_scope('inputs'):\n",
    "        train_inputs = tf.placeholder(tf.int32, shape=[batch_size])\n",
    "        train_labels = tf.placeholder(tf.int32, shape=[batch_size, 1])\n",
    "        valid_dataset = tf.constant(valid_examples, dtype=tf.int32)\n",
    "\n",
    "    # Ops and variables pinned to the CPU because of missing GPU implementation\n",
    "    with tf.device('/cpu:0'):\n",
    "        # Look up embeddings for inputs.\n",
    "        with tf.name_scope('embeddings'):\n",
    "            embeddings = tf.Variable(\n",
    "                tf.random_uniform([vocabulary_size, embedding_size], -1.0, 1.0))\n",
    "            embed = tf.nn.embedding_lookup(embeddings, train_inputs)\n",
    "\n",
    "        # Construct the variables for the NCE loss\n",
    "        with tf.name_scope('weights'):\n",
    "            nce_weights = tf.Variable(\n",
    "                tf.truncated_normal([vocabulary_size, embedding_size],\n",
    "                                    stddev=1.0 / math.sqrt(embedding_size)))\n",
    "        with tf.name_scope('biases'):\n",
    "            nce_biases = tf.Variable(tf.zeros([vocabulary_size]))\n",
    "\n",
    "    # Compute the average NCE loss for the batch.\n",
    "    # tf.nce_loss automatically draws a new sample of the negative labels each\n",
    "    # time we evaluate the loss.\n",
    "    # Explanation of the meaning of NCE loss:\n",
    "    #   http://mccormickml.com/2016/04/19/word2vec-tutorial-the-skip-gram-model/\n",
    "    with tf.name_scope('loss'):\n",
    "        loss = tf.reduce_mean(\n",
    "            tf.nn.nce_loss(\n",
    "            weights=nce_weights,\n",
    "            biases=nce_biases,\n",
    "            labels=train_labels,\n",
    "            inputs=embed,\n",
    "            num_sampled=num_sampled,\n",
    "            num_classes=vocabulary_size))\n",
    "\n",
    "    # Add the loss value as a scalar to summary.\n",
    "    tf.summary.scalar('loss', loss)\n",
    "\n",
    "    # Construct the SGD optimizer using a learning rate of 1.0.\n",
    "    with tf.name_scope('optimizer'):\n",
    "        optimizer = tf.train.GradientDescentOptimizer(1.0).minimize(loss)\n",
    "\n",
    "    # Compute the cosine similarity between minibatch examples and all\n",
    "    # embeddings.\n",
    "    norm = tf.sqrt(tf.reduce_sum(tf.square(embeddings), 1, keepdims=True))\n",
    "    normalized_embeddings = embeddings / norm\n",
    "    valid_embeddings = tf.nn.embedding_lookup(normalized_embeddings,\n",
    "                                              valid_dataset)\n",
    "    similarity = tf.matmul(\n",
    "        valid_embeddings, normalized_embeddings, transpose_b=True)\n",
    "\n",
    "    # Merge all summaries.\n",
    "    merged = tf.summary.merge_all()\n",
    "\n",
    "    # Add variable initializer.\n",
    "    init = tf.global_variables_initializer()\n",
    "\n",
    "    # Create a saver.\n",
    "    saver = tf.train.Saver()"
   ]
  },
  {
   "cell_type": "markdown",
   "metadata": {},
   "source": [
    "## step 6: Begin training."
   ]
  },
  {
   "cell_type": "code",
   "execution_count": 22,
   "metadata": {},
   "outputs": [
    {
     "name": "stdout",
     "output_type": "stream",
     "text": [
      "Initialized\n",
      "Average loss at step  0 :  291.4215087890625\n",
      "Nearest to a: tetra, wallenberg, watt, pathetic, aligned, converse, enterprise, keene,\n",
      "Nearest to will: directness, revisionism, clocking, ravaged, commissions, aleutian, delineated, coiled,\n",
      "Nearest to by: strenuously, epics, november, estrogen, disobey, umlaut, assumes, ineffable,\n",
      "Nearest to an: fallout, hours, throw, jespersen, itv, barns, classical, piercing,\n",
      "Nearest to most: butlerian, creating, dorne, installments, rises, shrub, writers, commemorative,\n",
      "Nearest to see: flushed, leeuwenhoek, candu, admixtures, ainu, peter, advertiser, harriers,\n",
      "Nearest to th: terrible, fanu, eccles, stage, perez, forestry, colonialism, organum,\n",
      "Nearest to years: beetle, coping, blatantly, angrily, wailing, ringers, yag, spherical,\n",
      "Nearest to about: hashish, harnessing, persuaded, lewisham, estudios, inheritors, vyacheslav, costumes,\n",
      "Nearest to four: feces, cricket, urged, trafalgar, frisch, interpol, precise, sorted,\n",
      "Nearest to six: turbo, jehoahaz, mau, era, kanembu, directional, dolls, purchasers,\n",
      "Nearest to s: haskell, capoeiristas, hips, handset, yolande, garuda, structured, engl,\n",
      "Nearest to this: bangladeshis, investors, bigg, layman, benjamin, dme, bhishma, vocative,\n",
      "Nearest to with: tam, considered, reservists, dining, pills, handling, foxx, edouard,\n",
      "Nearest to up: dialogue, geodesy, tunis, greenstone, dcsd, hultsfred, luton, spc,\n",
      "Nearest to seven: monasticism, lie, menus, umlaut, vedas, nighttime, almohades, bowls,\n",
      "Average loss at step  2000 :  113.62958475875854\n",
      "Average loss at step  4000 :  52.6473806129694\n",
      "Average loss at step  6000 :  33.793521401405336\n",
      "Average loss at step  8000 :  22.745888862609863\n",
      "Average loss at step  10000 :  17.913252071499823\n",
      "Nearest to a: the, UNK, and, phi, animalium, one, altruism, classic,\n",
      "Nearest to will: it, revisionism, circumstances, aleutian, ada, ravaged, and, laugh,\n",
      "Nearest to by: in, and, at, is, phi, with, UNK, earthquake,\n",
      "Nearest to an: the, throw, branden, hours, a, doctrine, richard, arc,\n",
      "Nearest to most: chancellorsville, creating, rises, writers, binomial, continuously, offside, aim,\n",
      "Nearest to see: peter, recycling, billboard, millimetres, UNK, region, let, danish,\n",
      "Nearest to th: six, zero, stage, phi, abacus, four, three, one,\n",
      "Nearest to years: higher, beetle, imitation, occur, coping, hong, temple, resource,\n",
      "Nearest to about: ada, and, persuaded, eight, buenos, december, zermelo, promoted,\n",
      "Nearest to four: nine, six, zero, and, seven, cricket, agave, two,\n",
      "Nearest to six: phi, zero, nine, four, one, bckgr, two, eight,\n",
      "Nearest to s: and, the, of, agave, phi, leading, nihon, lunar,\n",
      "Nearest to this: the, investors, jpg, lymphoma, fictional, eligible, highland, differ,\n",
      "Nearest to with: on, of, chemically, and, atoms, in, for, by,\n",
      "Nearest to up: dialogue, austrians, arm, atomic, tears, spiritual, account, oxygen,\n",
      "Nearest to seven: phi, nine, vs, zero, two, four, six, maximum,\n"
     ]
    }
   ],
   "source": [
    "# num_steps = 100001\n",
    "num_steps = 10001\n",
    "\n",
    "with tf.Session(graph=graph) as session:\n",
    "    # Open a writer to write summaries.\n",
    "    writer = tf.summary.FileWriter(log_dir, session.graph)\n",
    "\n",
    "    # We must initialize all variables before we use them.\n",
    "    init.run()\n",
    "    print('Initialized')\n",
    "\n",
    "    average_loss = 0\n",
    "    for step in xrange(num_steps):\n",
    "        batch_inputs, batch_labels = generate_batch(batch_size, num_skips,\n",
    "                                                    skip_window)\n",
    "        feed_dict = {train_inputs: batch_inputs, train_labels: batch_labels}\n",
    "\n",
    "        # Define metadata variable.\n",
    "        run_metadata = tf.RunMetadata()\n",
    "\n",
    "        # We perform one update step by evaluating the optimizer op (including it\n",
    "        # in the list of returned values for session.run()\n",
    "        # Also, evaluate the merged op to get all summaries from the returned\n",
    "        # \"summary\" variable. Feed metadata variable to session for visualizing\n",
    "        # the graph in TensorBoard.\n",
    "        _, summary, loss_val = session.run([optimizer, merged, loss],\n",
    "                                    feed_dict=feed_dict,\n",
    "                                    run_metadata=run_metadata)\n",
    "        average_loss += loss_val\n",
    "\n",
    "        # Add returned summaries to writer in each step.\n",
    "        writer.add_summary(summary, step)\n",
    "        # Add metadata to visualize the graph for the last run.\n",
    "        if step == (num_steps - 1):\n",
    "            writer.add_run_metadata(run_metadata, 'step%d' % step)\n",
    "\n",
    "        if step % 2000 == 0:\n",
    "            if step > 0:\n",
    "                average_loss /= 2000\n",
    "            # The average loss is an estimate of the loss over the last 2000\n",
    "            # batches.\n",
    "            print('Average loss at step ', step, ': ', average_loss)\n",
    "            average_loss = 0\n",
    "\n",
    "        # Note that this is expensive (~20% slowdown if computed every 500 steps)\n",
    "        if step % 10000 == 0:\n",
    "            sim = similarity.eval()\n",
    "            for i in xrange(valid_size):\n",
    "                valid_word = reverse_dictionary[valid_examples[i]]\n",
    "                top_k = 8  # number of nearest neighbors\n",
    "                nearest = (-sim[i, :]).argsort()[1:top_k + 1]\n",
    "                log_str = 'Nearest to %s:' % valid_word\n",
    "                for k in xrange(top_k):\n",
    "                    close_word = reverse_dictionary[nearest[k]]\n",
    "                    log_str = '%s %s,' % (log_str, close_word)\n",
    "                print(log_str)\n",
    "    final_embeddings = normalized_embeddings.eval()\n",
    "\n",
    "    # Write corresponding labels for the embeddings.\n",
    "    with open(log_dir + '/metadata.tsv', 'w') as f:\n",
    "        for i in xrange(vocabulary_size):\n",
    "            f.write(reverse_dictionary[i] + '\\n')\n",
    "\n",
    "    # Save the model for checkpoints.\n",
    "    saver.save(session, os.path.join(log_dir, 'model.ckpt'))\n",
    "\n",
    "    # Create a configuration for visualizing embeddings with the labels in\n",
    "    # TensorBoard.\n",
    "    config = projector.ProjectorConfig()\n",
    "    embedding_conf = config.embeddings.add()\n",
    "    embedding_conf.tensor_name = embeddings.name\n",
    "    embedding_conf.metadata_path = os.path.join(log_dir, 'metadata.tsv')\n",
    "    projector.visualize_embeddings(writer, config)\n",
    "\n",
    "writer.close()"
   ]
  },
  {
   "cell_type": "code",
   "execution_count": 23,
   "metadata": {},
   "outputs": [],
   "source": [
    "import matplotlib.pyplot as plt\n",
    "%matplotlib inline\n",
    "\n",
    "x = np.linspace(0,10,100)\n",
    "y1 = np.exp(-np.power(x, 2.) / (2 * np.power(1, 2.)))\n",
    "y2 = (np.exp(-np.power(x, 2.) / (2 * np.power(1, 2.))))**0.75"
   ]
  },
  {
   "cell_type": "code",
   "execution_count": 24,
   "metadata": {},
   "outputs": [
    {
     "data": {
      "image/png": "[encoded data removed]",
      "text/plain": [
       "<Figure size 432x288 with 1 Axes>"
      ]
     },
     "metadata": {
      "needs_background": "light"
     },
     "output_type": "display_data"
    }
   ],
   "source": [
    "plt.plot(x,y1,label='normal')\n",
    "plt.plot(x,y2,label='transformed')\n",
    "plt.legend()\n",
    "plt.show()"
   ]
  },
  {
   "cell_type": "code",
   "execution_count": null,
   "metadata": {},
   "outputs": [],
   "source": []
  }
 ],
 "metadata": {
  "kernelspec": {
   "display_name": "Python 3",
   "language": "python",
   "name": "python3"
  },
  "language_info": {
   "codemirror_mode": {
    "name": "ipython",
    "version": 3
   },
   "file_extension": ".py",
   "mimetype": "text/x-python",
   "name": "python",
   "nbconvert_exporter": "python",
   "pygments_lexer": "ipython3",
   "version": "3.6.8"
  }
 },
 "nbformat": 4,
 "nbformat_minor": 2
}
