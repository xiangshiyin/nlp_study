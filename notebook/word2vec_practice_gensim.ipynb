{
 "cells": [
  {
   "cell_type": "code",
   "execution_count": 1,
   "metadata": {},
   "outputs": [],
   "source": [
    "from gensim.models import Word2Vec"
   ]
  },
  {
   "cell_type": "code",
   "execution_count": 3,
   "metadata": {},
   "outputs": [],
   "source": [
    "\n",
    "from gensim.models import Word2Vec\n",
    "# define training data\n",
    "sentences = [['this', 'is', 'the', 'first', 'sentence', 'for', 'word2vec'],\n",
    "\t\t\t['this', 'is', 'the', 'second', 'sentence'],\n",
    "\t\t\t['yet', 'another', 'sentence'],\n",
    "\t\t\t['one', 'more', 'sentence'],\n",
    "\t\t\t['and', 'the', 'final', 'sentence']]"
   ]
  },
  {
   "cell_type": "code",
   "execution_count": 4,
   "metadata": {},
   "outputs": [],
   "source": [
    "# train model\n",
    "model = Word2Vec(sentences, min_count=1)"
   ]
  },
  {
   "cell_type": "code",
   "execution_count": 5,
   "metadata": {},
   "outputs": [
    {
     "name": "stdout",
     "output_type": "stream",
     "text": [
      "Word2Vec(vocab=14, size=100, alpha=0.025)\n"
     ]
    }
   ],
   "source": [
    "# summarize the loaded model\n",
    "print(model)"
   ]
  },
  {
   "cell_type": "code",
   "execution_count": 6,
   "metadata": {},
   "outputs": [
    {
     "name": "stdout",
     "output_type": "stream",
     "text": [
      "['this', 'is', 'the', 'first', 'sentence', 'for', 'word2vec', 'second', 'yet', 'another', 'one', 'more', 'and', 'final']\n"
     ]
    }
   ],
   "source": [
    "# summarize vocabulary\n",
    "words = list(model.wv.vocab)\n",
    "print(words)"
   ]
  },
  {
   "cell_type": "code",
   "execution_count": 7,
   "metadata": {
    "scrolled": false
   },
   "outputs": [
    {
     "name": "stdout",
     "output_type": "stream",
     "text": [
      "[-0.00167729 -0.00078612 -0.0013764  -0.00447848  0.00253468  0.00227099\n",
      " -0.00459288  0.00123443  0.0014857   0.00020561  0.00333415  0.00379596\n",
      "  0.00098228  0.00021828  0.00055563  0.00011959 -0.00315965  0.00282863\n",
      " -0.00220638 -0.00299652 -0.00364933  0.00103164 -0.0033219   0.00276052\n",
      " -0.0022706   0.00411328  0.00039908 -0.00349657  0.0047762   0.00171186\n",
      " -0.00357999  0.00119099 -0.00495475 -0.00407974 -0.00019871 -0.00186948\n",
      " -0.00484836 -0.00022037  0.00183696 -0.00050354  0.00280427 -0.00025854\n",
      "  0.00170376 -0.00398126  0.00459426 -0.00200869  0.00306839  0.00277631\n",
      " -0.00166061 -0.0001218  -0.00225066 -0.00135782 -0.00024104 -0.00082386\n",
      "  0.00335088  0.00322689 -0.00388896  0.00075536 -0.00455454  0.00455709\n",
      " -0.00321209  0.00378969 -0.00235602 -0.00434084 -0.00343448 -0.00029484\n",
      "  0.00409313  0.00123545  0.00125296 -0.00377296  0.00220693  0.00385692\n",
      "  0.00320835  0.00406697 -0.00190162  0.00058045  0.00198261  0.00412154\n",
      " -0.00075851  0.00215954  0.00133291  0.0016601   0.00108466  0.00036357\n",
      " -0.00161088 -0.00270148  0.00062352  0.004986   -0.00197476 -0.00187859\n",
      " -0.00388052  0.00416324 -0.00190858 -0.00462377 -0.00293364  0.00174664\n",
      " -0.00043182 -0.00484485  0.0049898   0.00370358]\n"
     ]
    },
    {
     "name": "stderr",
     "output_type": "stream",
     "text": [
      "/anaconda3/envs/py36/lib/python3.6/site-packages/ipykernel_launcher.py:2: DeprecationWarning: Call to deprecated `__getitem__` (Method will be removed in 4.0.0, use self.wv.__getitem__() instead).\n",
      "  \n"
     ]
    }
   ],
   "source": [
    "# access vector for one word\n",
    "print(model['sentence'])"
   ]
  },
  {
   "cell_type": "code",
   "execution_count": 10,
   "metadata": {},
   "outputs": [
    {
     "name": "stdout",
     "output_type": "stream",
     "text": [
      "[-0.00167729 -0.00078612 -0.0013764  -0.00447848  0.00253468  0.00227099\n",
      " -0.00459288  0.00123443  0.0014857   0.00020561  0.00333415  0.00379596\n",
      "  0.00098228  0.00021828  0.00055563  0.00011959 -0.00315965  0.00282863\n",
      " -0.00220638 -0.00299652 -0.00364933  0.00103164 -0.0033219   0.00276052\n",
      " -0.0022706   0.00411328  0.00039908 -0.00349657  0.0047762   0.00171186\n",
      " -0.00357999  0.00119099 -0.00495475 -0.00407974 -0.00019871 -0.00186948\n",
      " -0.00484836 -0.00022037  0.00183696 -0.00050354  0.00280427 -0.00025854\n",
      "  0.00170376 -0.00398126  0.00459426 -0.00200869  0.00306839  0.00277631\n",
      " -0.00166061 -0.0001218  -0.00225066 -0.00135782 -0.00024104 -0.00082386\n",
      "  0.00335088  0.00322689 -0.00388896  0.00075536 -0.00455454  0.00455709\n",
      " -0.00321209  0.00378969 -0.00235602 -0.00434084 -0.00343448 -0.00029484\n",
      "  0.00409313  0.00123545  0.00125296 -0.00377296  0.00220693  0.00385692\n",
      "  0.00320835  0.00406697 -0.00190162  0.00058045  0.00198261  0.00412154\n",
      " -0.00075851  0.00215954  0.00133291  0.0016601   0.00108466  0.00036357\n",
      " -0.00161088 -0.00270148  0.00062352  0.004986   -0.00197476 -0.00187859\n",
      " -0.00388052  0.00416324 -0.00190858 -0.00462377 -0.00293364  0.00174664\n",
      " -0.00043182 -0.00484485  0.0049898   0.00370358]\n"
     ]
    }
   ],
   "source": [
    "print(model.wv['sentence'])"
   ]
  },
  {
   "cell_type": "markdown",
   "metadata": {},
   "source": [
    "## visualize the embedding"
   ]
  },
  {
   "cell_type": "code",
   "execution_count": 9,
   "metadata": {},
   "outputs": [
    {
     "name": "stderr",
     "output_type": "stream",
     "text": [
      "/anaconda3/envs/py36/lib/python3.6/site-packages/ipykernel_launcher.py:14: DeprecationWarning: Call to deprecated `__getitem__` (Method will be removed in 4.0.0, use self.wv.__getitem__() instead).\n",
      "  \n"
     ]
    },
    {
     "data": {
      "image/png": "[encoded data removed]",
      "text/plain": [
       "<Figure size 432x288 with 1 Axes>"
      ]
     },
     "metadata": {
      "needs_background": "light"
     },
     "output_type": "display_data"
    }
   ],
   "source": [
    "from gensim.models import Word2Vec\n",
    "from sklearn.decomposition import PCA\n",
    "from matplotlib import pyplot\n",
    "%matplotlib inline\n",
    "# define training data\n",
    "sentences = [['this', 'is', 'the', 'first', 'sentence', 'for', 'word2vec'],\n",
    "\t\t\t['this', 'is', 'the', 'second', 'sentence'],\n",
    "\t\t\t['yet', 'another', 'sentence'],\n",
    "\t\t\t['one', 'more', 'sentence'],\n",
    "\t\t\t['and', 'the', 'final', 'sentence']]\n",
    "# train model\n",
    "model = Word2Vec(sentences, min_count=1)\n",
    "# fit a 2d PCA model to the vectors\n",
    "X = model[model.wv.vocab]\n",
    "pca = PCA(n_components=2)\n",
    "result = pca.fit_transform(X)\n",
    "# create a scatter plot of the projection\n",
    "pyplot.scatter(result[:, 0], result[:, 1])\n",
    "words = list(model.wv.vocab)\n",
    "for i, word in enumerate(words):\n",
    "\tpyplot.annotate(word, xy=(result[i, 0], result[i, 1]))\n",
    "pyplot.show()"
   ]
  },
  {
   "cell_type": "code",
   "execution_count": null,
   "metadata": {},
   "outputs": [],
   "source": []
  }
 ],
 "metadata": {
  "kernelspec": {
   "display_name": "Python 3",
   "language": "python",
   "name": "python3"
  },
  "language_info": {
   "codemirror_mode": {
    "name": "ipython",
    "version": 3
   },
   "file_extension": ".py",
   "mimetype": "text/x-python",
   "name": "python",
   "nbconvert_exporter": "python",
   "pygments_lexer": "ipython3",
   "version": "3.6.8"
  }
 },
 "nbformat": 4,
 "nbformat_minor": 2
}
